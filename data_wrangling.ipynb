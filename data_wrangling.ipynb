{
 "cells": [
  {
   "cell_type": "markdown",
   "id": "3Xg_RQfnafXz",
   "metadata": {
    "id": "3Xg_RQfnafXz"
   },
   "source": [
    "# ¡Llena ese carrito!"
   ]
  },
  {
   "cell_type": "markdown",
   "id": "mhIvmmkW414q",
   "metadata": {
    "id": "mhIvmmkW414q"
   },
   "source": [
    "# Introducción\n",
    "\n",
    "Instacart es una plataforma de entregas de comestibles donde la clientela puede registrar un pedido y hacer que se lo entreguen, similar a Uber Eats y Door Dash.\n",
    "El conjunto de datos que te hemos proporcionado tiene modificaciones del original. Redujimos el tamaño del conjunto para que tus cálculos se hicieran más rápido e introdujimos valores ausentes y duplicados. Tuvimos cuidado de conservar las distribuciones de los datos originales cuando hicimos los cambios.\n",
    "\n",
    "Debes completar tres pasos. Para cada uno de ellos, escribe una breve introducción que refleje con claridad cómo pretendes resolver cada paso, y escribe párrafos explicatorios que justifiquen tus decisiones al tiempo que avanzas en tu solución.  También escribe una conclusión que resuma tus hallazgos y elecciones.\n"
   ]
  },
  {
   "cell_type": "markdown",
   "id": "3MbyzpOQZ5Or",
   "metadata": {
    "id": "3MbyzpOQZ5Or"
   },
   "source": [
    "## Diccionario de datos\n",
    "\n",
    "Hay cinco tablas en el conjunto de datos, y tendrás que usarlas todas para hacer el preprocesamiento de datos y el análisis exploratorio de datos. A continuación se muestra un diccionario de datos que enumera las columnas de cada tabla y describe los datos que contienen.\n",
    "\n",
    "- `instacart_orders.csv`: cada fila corresponde a un pedido en la aplicación Instacart.\n",
    "    - `'order_id'`: número de ID que identifica de manera única cada pedido.\n",
    "    - `'user_id'`: número de ID que identifica de manera única la cuenta de cada cliente.\n",
    "    - `'order_number'`: el número de veces que este cliente ha hecho un pedido.\n",
    "    - `'order_dow'`: día de la semana en que se hizo el pedido (0 si es domingo).\n",
    "    - `'order_hour_of_day'`: hora del día en que se hizo el pedido.\n",
    "    - `'days_since_prior_order'`: número de días transcurridos desde que este cliente hizo su pedido anterior.\n",
    "- `products.csv`: cada fila corresponde a un producto único que pueden comprar los clientes.\n",
    "    - `'product_id'`: número ID que identifica de manera única cada producto.\n",
    "    - `'product_name'`: nombre del producto.\n",
    "    - `'aisle_id'`: número ID que identifica de manera única cada categoría de pasillo de víveres.\n",
    "    - `'department_id'`: número ID que identifica de manera única cada departamento de víveres.\n",
    "- `order_products.csv`: cada fila corresponde a un artículo pedido en un pedido.\n",
    "    - `'order_id'`: número de ID que identifica de manera única cada pedido.\n",
    "    - `'product_id'`: número ID que identifica de manera única cada producto.\n",
    "    - `'add_to_cart_order'`: el orden secuencial en el que se añadió cada artículo en el carrito.\n",
    "    - `'reordered'`: 0 si el cliente nunca ha pedido este producto antes, 1 si lo ha pedido.\n",
    "- `aisles.csv`\n",
    "    - `'aisle_id'`: número ID que identifica de manera única cada categoría de pasillo de víveres.\n",
    "    - `'aisle'`: nombre del pasillo.\n",
    "- `departments.csv`\n",
    "    - `'department_id'`: número ID que identifica de manera única cada departamento de víveres.\n",
    "    - `'department'`: nombre del departamento."
   ]
  },
  {
   "cell_type": "markdown",
   "id": "n3Ha_cNSZ8lK",
   "metadata": {
    "id": "n3Ha_cNSZ8lK"
   },
   "source": [
    "# Paso 1. Descripción de los datos\n",
    "\n",
    "Lee los archivos de datos (`/datasets/instacart_orders.csv`, `/datasets/products.csv`, `/datasets/aisles.csv`, `/datasets/departments.csv` y `/datasets/order_products.csv`) con `pd.read_csv()` usando los parámetros adecuados para leer los datos correctamente. Verifica la información para cada DataFrame creado.\n"
   ]
  },
  {
   "cell_type": "markdown",
   "id": "OmlQPLlyaAfR",
   "metadata": {
    "id": "OmlQPLlyaAfR"
   },
   "source": [
    "## Plan de solución\n",
    "\n",
    "- En este apartado se leen los distintos dataset y se valida la información general de los mismos.\n",
    "- De ser necesario se utilizará un parámetro con el método `'pd.read_csv()'` para la correcta lectura de los datasets.\n",
    "- Se utilizarán los siguientes métodos para obtener información de los dataset:\n",
    "    - `'sample()'`: para obetner una muestra aleatoria de los datos.\n",
    "    - `'info()'`: para obtener una descripción general del dataset.\n",
    "    - `'describe()'`: donde sea útil para revisar valores de tipo numérico."
   ]
  },
  {
   "cell_type": "code",
   "execution_count": 28,
   "id": "fbf1adab",
   "metadata": {
    "id": "fbf1adab"
   },
   "outputs": [],
   "source": [
    "import pandas as pd\n",
    "from matplotlib import pyplot as plt\n",
    "import numpy as np"
   ]
  },
  {
   "cell_type": "code",
   "execution_count": 29,
   "id": "ad36396d",
   "metadata": {
    "id": "ad36396d"
   },
   "outputs": [],
   "source": [
    "# Se leen los archivos de datos para cada uno de los datasets. Se pasa como parámetro el separador ';' para una\n",
    "# correcta lectura y visualización de los archivos '.csv'.\n",
    "\n",
    "instacart_orders = pd.read_csv('instacart_orders.csv',sep=';',encoding='utf-8')\n",
    "\n",
    "products = pd.read_csv(\n",
    "    'products.csv',\n",
    "    sep=';',\n",
    "    encoding='utf-8',\n",
    "    )\n",
    "\n",
    "orders_products = pd.read_csv(\n",
    "    'order_products.csv',\n",
    "    sep=';',\n",
    "    encoding='utf-8'\n",
    "    )\n",
    "\n",
    "aisles = pd.read_csv(\n",
    "    'aisles.csv',\n",
    "    sep=';',\n",
    "    encoding='utf-8'\n",
    "    )\n",
    "\n",
    "departments = pd.read_csv(\n",
    "    'departments.csv',\n",
    "    sep=';',\n",
    "    encoding='utf-8'\n",
    "    )"
   ]
  },
  {
   "cell_type": "code",
   "execution_count": 30,
   "id": "ad6a1efa",
   "metadata": {
    "id": "ad6a1efa"
   },
   "outputs": [
    {
     "name": "stdout",
     "output_type": "stream",
     "text": [
      "-- Una muestra de los datos del dataset: \n",
      "\n",
      "        order_id  user_id  order_number  order_dow  order_hour_of_day  \\\n",
      "223727   1808583    75321             9          6                  9   \n",
      "334649   2088177   168309             6          6                 17   \n",
      "74611    2674184   179460            27          2                 11   \n",
      "117602   3227775   197374             5          0                 10   \n",
      "102811   1669091   152080            31          1                 16   \n",
      "\n",
      "        days_since_prior_order  \n",
      "223727                    13.0  \n",
      "334649                    13.0  \n",
      "74611                      7.0  \n",
      "117602                     8.0  \n",
      "102811                     5.0  \n",
      "\n",
      "-- Información general del dataset: \n",
      "\n",
      "<class 'pandas.core.frame.DataFrame'>\n",
      "RangeIndex: 478967 entries, 0 to 478966\n",
      "Data columns (total 6 columns):\n",
      " #   Column                  Non-Null Count   Dtype  \n",
      "---  ------                  --------------   -----  \n",
      " 0   order_id                478967 non-null  int64  \n",
      " 1   user_id                 478967 non-null  int64  \n",
      " 2   order_number            478967 non-null  int64  \n",
      " 3   order_dow               478967 non-null  int64  \n",
      " 4   order_hour_of_day       478967 non-null  int64  \n",
      " 5   days_since_prior_order  450148 non-null  float64\n",
      "dtypes: float64(1), int64(5)\n",
      "memory usage: 21.9 MB\n",
      "\n",
      "-- Información general sobre los datos de tipo numérico: \n",
      "\n"
     ]
    },
    {
     "data": {
      "text/html": [
       "<div>\n",
       "<style scoped>\n",
       "    .dataframe tbody tr th:only-of-type {\n",
       "        vertical-align: middle;\n",
       "    }\n",
       "\n",
       "    .dataframe tbody tr th {\n",
       "        vertical-align: top;\n",
       "    }\n",
       "\n",
       "    .dataframe thead th {\n",
       "        text-align: right;\n",
       "    }\n",
       "</style>\n",
       "<table border=\"1\" class=\"dataframe\">\n",
       "  <thead>\n",
       "    <tr style=\"text-align: right;\">\n",
       "      <th></th>\n",
       "      <th>order_id</th>\n",
       "      <th>user_id</th>\n",
       "      <th>order_number</th>\n",
       "      <th>order_dow</th>\n",
       "      <th>order_hour_of_day</th>\n",
       "      <th>days_since_prior_order</th>\n",
       "    </tr>\n",
       "  </thead>\n",
       "  <tbody>\n",
       "    <tr>\n",
       "      <th>count</th>\n",
       "      <td>4.789670e+05</td>\n",
       "      <td>478967.000000</td>\n",
       "      <td>478967.000000</td>\n",
       "      <td>478967.000000</td>\n",
       "      <td>478967.000000</td>\n",
       "      <td>450148.000000</td>\n",
       "    </tr>\n",
       "    <tr>\n",
       "      <th>mean</th>\n",
       "      <td>1.709947e+06</td>\n",
       "      <td>102966.537475</td>\n",
       "      <td>17.157808</td>\n",
       "      <td>2.775058</td>\n",
       "      <td>13.446676</td>\n",
       "      <td>11.101751</td>\n",
       "    </tr>\n",
       "    <tr>\n",
       "      <th>std</th>\n",
       "      <td>9.869480e+05</td>\n",
       "      <td>59525.328991</td>\n",
       "      <td>17.704688</td>\n",
       "      <td>2.045869</td>\n",
       "      <td>4.224986</td>\n",
       "      <td>9.189975</td>\n",
       "    </tr>\n",
       "    <tr>\n",
       "      <th>min</th>\n",
       "      <td>4.000000e+00</td>\n",
       "      <td>2.000000</td>\n",
       "      <td>1.000000</td>\n",
       "      <td>0.000000</td>\n",
       "      <td>0.000000</td>\n",
       "      <td>0.000000</td>\n",
       "    </tr>\n",
       "    <tr>\n",
       "      <th>25%</th>\n",
       "      <td>8.564685e+05</td>\n",
       "      <td>51414.000000</td>\n",
       "      <td>5.000000</td>\n",
       "      <td>1.000000</td>\n",
       "      <td>10.000000</td>\n",
       "      <td>4.000000</td>\n",
       "    </tr>\n",
       "    <tr>\n",
       "      <th>50%</th>\n",
       "      <td>1.709522e+06</td>\n",
       "      <td>102633.000000</td>\n",
       "      <td>11.000000</td>\n",
       "      <td>3.000000</td>\n",
       "      <td>13.000000</td>\n",
       "      <td>7.000000</td>\n",
       "    </tr>\n",
       "    <tr>\n",
       "      <th>75%</th>\n",
       "      <td>2.562990e+06</td>\n",
       "      <td>154419.000000</td>\n",
       "      <td>23.000000</td>\n",
       "      <td>5.000000</td>\n",
       "      <td>16.000000</td>\n",
       "      <td>15.000000</td>\n",
       "    </tr>\n",
       "    <tr>\n",
       "      <th>max</th>\n",
       "      <td>3.421079e+06</td>\n",
       "      <td>206209.000000</td>\n",
       "      <td>100.000000</td>\n",
       "      <td>6.000000</td>\n",
       "      <td>23.000000</td>\n",
       "      <td>30.000000</td>\n",
       "    </tr>\n",
       "  </tbody>\n",
       "</table>\n",
       "</div>"
      ],
      "text/plain": [
       "           order_id        user_id   order_number      order_dow  \\\n",
       "count  4.789670e+05  478967.000000  478967.000000  478967.000000   \n",
       "mean   1.709947e+06  102966.537475      17.157808       2.775058   \n",
       "std    9.869480e+05   59525.328991      17.704688       2.045869   \n",
       "min    4.000000e+00       2.000000       1.000000       0.000000   \n",
       "25%    8.564685e+05   51414.000000       5.000000       1.000000   \n",
       "50%    1.709522e+06  102633.000000      11.000000       3.000000   \n",
       "75%    2.562990e+06  154419.000000      23.000000       5.000000   \n",
       "max    3.421079e+06  206209.000000     100.000000       6.000000   \n",
       "\n",
       "       order_hour_of_day  days_since_prior_order  \n",
       "count      478967.000000           450148.000000  \n",
       "mean           13.446676               11.101751  \n",
       "std             4.224986                9.189975  \n",
       "min             0.000000                0.000000  \n",
       "25%            10.000000                4.000000  \n",
       "50%            13.000000                7.000000  \n",
       "75%            16.000000               15.000000  \n",
       "max            23.000000               30.000000  "
      ]
     },
     "execution_count": 30,
     "metadata": {},
     "output_type": "execute_result"
    }
   ],
   "source": [
    "print(\"-- Una muestra de los datos del dataset: \\n\")\n",
    "print(instacart_orders.sample(n= 5, random_state = 1))\n",
    "print()\n",
    "print(\"-- Información general del dataset: \\n\")\n",
    "instacart_orders.info(show_counts=True)\n",
    "print()\n",
    "print(\"-- Información general sobre los datos de tipo numérico: \\n\")\n",
    "instacart_orders.describe()"
   ]
  },
  {
   "cell_type": "code",
   "execution_count": 31,
   "id": "5130e05e",
   "metadata": {
    "id": "5130e05e"
   },
   "outputs": [
    {
     "name": "stdout",
     "output_type": "stream",
     "text": [
      "-- Una muestra de los datos del dataset: \n",
      "\n",
      "       product_id                      product_name  aisle_id  department_id\n",
      "20471       20472                               NaN       100             21\n",
      "34022       34023                Whole Grain Quinoa        63              9\n",
      "33304       33305  Brooklyn Blackout Cake Ice Cream        37              1\n",
      "11809       11810                               NaN       100             21\n",
      "25065       25066      Dark Hazelnut Praline Square        45             19\n",
      "\n",
      "-- Información general del dataset: \n",
      "\n",
      "<class 'pandas.core.frame.DataFrame'>\n",
      "RangeIndex: 49694 entries, 0 to 49693\n",
      "Data columns (total 4 columns):\n",
      " #   Column         Non-Null Count  Dtype \n",
      "---  ------         --------------  ----- \n",
      " 0   product_id     49694 non-null  int64 \n",
      " 1   product_name   48436 non-null  object\n",
      " 2   aisle_id       49694 non-null  int64 \n",
      " 3   department_id  49694 non-null  int64 \n",
      "dtypes: int64(3), object(1)\n",
      "memory usage: 1.5+ MB\n"
     ]
    }
   ],
   "source": [
    "print(\"-- Una muestra de los datos del dataset: \\n\")\n",
    "print(products.sample(n= 5, random_state = 1))\n",
    "print()\n",
    "print(\"-- Información general del dataset: \\n\")\n",
    "products.info()"
   ]
  },
  {
   "cell_type": "code",
   "execution_count": 32,
   "id": "d8370c05",
   "metadata": {
    "id": "d8370c05"
   },
   "outputs": [
    {
     "name": "stdout",
     "output_type": "stream",
     "text": [
      "-- Una muestra de los datos del dataset: \n",
      "\n",
      "         order_id  product_id  add_to_cart_order  reordered\n",
      "3588438   3081212       11005                3.0          1\n",
      "1911837   2895083       46303                1.0          0\n",
      "4214450   1427494       47209                2.0          1\n",
      "3689340   3282397       16797                1.0          1\n",
      "887929    2303585       18027                7.0          1\n",
      "\n",
      "-- Información general del dataset: \n",
      "\n",
      "<class 'pandas.core.frame.DataFrame'>\n",
      "RangeIndex: 4545007 entries, 0 to 4545006\n",
      "Data columns (total 4 columns):\n",
      " #   Column             Non-Null Count    Dtype  \n",
      "---  ------             --------------    -----  \n",
      " 0   order_id           4545007 non-null  int64  \n",
      " 1   product_id         4545007 non-null  int64  \n",
      " 2   add_to_cart_order  4544171 non-null  float64\n",
      " 3   reordered          4545007 non-null  int64  \n",
      "dtypes: float64(1), int64(3)\n",
      "memory usage: 138.7 MB\n",
      "\n",
      "-- Información general sobre los datos de tipo numérico: \n",
      "\n"
     ]
    },
    {
     "data": {
      "text/html": [
       "<div>\n",
       "<style scoped>\n",
       "    .dataframe tbody tr th:only-of-type {\n",
       "        vertical-align: middle;\n",
       "    }\n",
       "\n",
       "    .dataframe tbody tr th {\n",
       "        vertical-align: top;\n",
       "    }\n",
       "\n",
       "    .dataframe thead th {\n",
       "        text-align: right;\n",
       "    }\n",
       "</style>\n",
       "<table border=\"1\" class=\"dataframe\">\n",
       "  <thead>\n",
       "    <tr style=\"text-align: right;\">\n",
       "      <th></th>\n",
       "      <th>order_id</th>\n",
       "      <th>product_id</th>\n",
       "      <th>add_to_cart_order</th>\n",
       "      <th>reordered</th>\n",
       "    </tr>\n",
       "  </thead>\n",
       "  <tbody>\n",
       "    <tr>\n",
       "      <th>count</th>\n",
       "      <td>4.545007e+06</td>\n",
       "      <td>4.545007e+06</td>\n",
       "      <td>4.544171e+06</td>\n",
       "      <td>4.545007e+06</td>\n",
       "    </tr>\n",
       "    <tr>\n",
       "      <th>mean</th>\n",
       "      <td>1.711166e+06</td>\n",
       "      <td>2.558084e+04</td>\n",
       "      <td>8.351669e+00</td>\n",
       "      <td>5.905025e-01</td>\n",
       "    </tr>\n",
       "    <tr>\n",
       "      <th>std</th>\n",
       "      <td>9.850955e+05</td>\n",
       "      <td>1.409552e+04</td>\n",
       "      <td>7.080368e+00</td>\n",
       "      <td>4.917411e-01</td>\n",
       "    </tr>\n",
       "    <tr>\n",
       "      <th>min</th>\n",
       "      <td>4.000000e+00</td>\n",
       "      <td>1.000000e+00</td>\n",
       "      <td>1.000000e+00</td>\n",
       "      <td>0.000000e+00</td>\n",
       "    </tr>\n",
       "    <tr>\n",
       "      <th>25%</th>\n",
       "      <td>8.608170e+05</td>\n",
       "      <td>1.353500e+04</td>\n",
       "      <td>3.000000e+00</td>\n",
       "      <td>0.000000e+00</td>\n",
       "    </tr>\n",
       "    <tr>\n",
       "      <th>50%</th>\n",
       "      <td>1.711530e+06</td>\n",
       "      <td>2.527200e+04</td>\n",
       "      <td>6.000000e+00</td>\n",
       "      <td>1.000000e+00</td>\n",
       "    </tr>\n",
       "    <tr>\n",
       "      <th>75%</th>\n",
       "      <td>2.561311e+06</td>\n",
       "      <td>3.793500e+04</td>\n",
       "      <td>1.100000e+01</td>\n",
       "      <td>1.000000e+00</td>\n",
       "    </tr>\n",
       "    <tr>\n",
       "      <th>max</th>\n",
       "      <td>3.421079e+06</td>\n",
       "      <td>4.969400e+04</td>\n",
       "      <td>6.400000e+01</td>\n",
       "      <td>1.000000e+00</td>\n",
       "    </tr>\n",
       "  </tbody>\n",
       "</table>\n",
       "</div>"
      ],
      "text/plain": [
       "           order_id    product_id  add_to_cart_order     reordered\n",
       "count  4.545007e+06  4.545007e+06       4.544171e+06  4.545007e+06\n",
       "mean   1.711166e+06  2.558084e+04       8.351669e+00  5.905025e-01\n",
       "std    9.850955e+05  1.409552e+04       7.080368e+00  4.917411e-01\n",
       "min    4.000000e+00  1.000000e+00       1.000000e+00  0.000000e+00\n",
       "25%    8.608170e+05  1.353500e+04       3.000000e+00  0.000000e+00\n",
       "50%    1.711530e+06  2.527200e+04       6.000000e+00  1.000000e+00\n",
       "75%    2.561311e+06  3.793500e+04       1.100000e+01  1.000000e+00\n",
       "max    3.421079e+06  4.969400e+04       6.400000e+01  1.000000e+00"
      ]
     },
     "execution_count": 32,
     "metadata": {},
     "output_type": "execute_result"
    }
   ],
   "source": [
    "print(\"-- Una muestra de los datos del dataset: \\n\")\n",
    "print(orders_products.sample(n= 5, random_state = 1))\n",
    "print()\n",
    "print(\"-- Información general del dataset: \\n\")\n",
    "orders_products.info(show_counts=True)\n",
    "print()\n",
    "print(\"-- Información general sobre los datos de tipo numérico: \\n\")\n",
    "orders_products.describe()\n"
   ]
  },
  {
   "cell_type": "code",
   "execution_count": 33,
   "id": "59e2090f",
   "metadata": {
    "id": "59e2090f"
   },
   "outputs": [
    {
     "name": "stdout",
     "output_type": "stream",
     "text": [
      "-- Una muestra de los datos del dataset: \n",
      "\n",
      "    aisle_id          aisle\n",
      "42        43     buns rolls\n",
      "36        37  ice cream ice\n",
      "93        94            tea\n",
      "5          6          other\n",
      "65        66    asian foods\n",
      "\n",
      "-- Información general del dataset: \n",
      "\n",
      "<class 'pandas.core.frame.DataFrame'>\n",
      "RangeIndex: 134 entries, 0 to 133\n",
      "Data columns (total 2 columns):\n",
      " #   Column    Non-Null Count  Dtype \n",
      "---  ------    --------------  ----- \n",
      " 0   aisle_id  134 non-null    int64 \n",
      " 1   aisle     134 non-null    object\n",
      "dtypes: int64(1), object(1)\n",
      "memory usage: 2.2+ KB\n"
     ]
    }
   ],
   "source": [
    "print(\"-- Una muestra de los datos del dataset: \\n\")\n",
    "print(aisles.sample(n= 5, random_state = 1))\n",
    "print()\n",
    "print(\"-- Información general del dataset: \\n\")\n",
    "aisles.info()"
   ]
  },
  {
   "cell_type": "code",
   "execution_count": 34,
   "id": "6fc81694",
   "metadata": {
    "id": "6fc81694"
   },
   "outputs": [
    {
     "name": "stdout",
     "output_type": "stream",
     "text": [
      "-- Una muestra de los datos del dataset: \n",
      "\n",
      "    department_id     department\n",
      "15             16     dairy eggs\n",
      "10             11  personal care\n",
      "3               4        produce\n",
      "18             19         snacks\n",
      "17             18         babies\n",
      "\n",
      "-- Información general del dataset: \n",
      "\n",
      "<class 'pandas.core.frame.DataFrame'>\n",
      "RangeIndex: 21 entries, 0 to 20\n",
      "Data columns (total 2 columns):\n",
      " #   Column         Non-Null Count  Dtype \n",
      "---  ------         --------------  ----- \n",
      " 0   department_id  21 non-null     int64 \n",
      " 1   department     21 non-null     object\n",
      "dtypes: int64(1), object(1)\n",
      "memory usage: 464.0+ bytes\n"
     ]
    }
   ],
   "source": [
    "print(\"-- Una muestra de los datos del dataset: \\n\")\n",
    "print(departments.sample(n= 5, random_state = 1))\n",
    "print()\n",
    "print(\"-- Información general del dataset: \\n\")\n",
    "departments.info()"
   ]
  },
  {
   "cell_type": "markdown",
   "id": "t75BD19oaR5f",
   "metadata": {
    "id": "t75BD19oaR5f"
   },
   "source": [
    "## Conclusiones\n",
    "\n",
    "### Dataset instacart_orders.csv:\n",
    "\n",
    "- En términos generales el dataset está completo.\n",
    "- Los nombres de las columnas son consistentes, todos los caracteres en minúscula y sin espacios entre palabras.\n",
    "- Se observa valores ausentes en la columna: `'days_since_prior_order'`. Son `'28819'` datos ausentes. Dada esta cantidad no se ve afectada la calidad del dataset, pero hay que procesarlos.\n",
    "- El tipo de datos de la columna `'days_since_prior_order'` está como tipo `'float'`, debe ser de tipo `'entero'`.\n",
    "- La columna `'order_dow'` que representa el día de la semana, se puede convertir a una columna de tipo categórico, para mejorar la lectura de los datos.\n",
    "- Para la descripción de este dataset se utilizó, entre otros, el método `'describe()'`, para obtener una información detallada de los valores numéricos. Esto permitió validar, por ejemplo, que los datos de la columna `'order_dow'` toman valores enre `'0 y 6'`. Ó, que la columna `'order_hour_of_day'` tiene valores entre `'0 y 23'`\n",
    "\n",
    "### Dataset products.csv:\n",
    "\n",
    "- En genreal el datase está completo.\n",
    "- Se observan algunos valores ausentes en la columna `'product_name'`. Alrededor de `'1258'` valores ausentes para esta columna. Es posible tratar de inferir el valor de estos campos con la información de los otros dataset. De no ser posible, y dada la cantidad de valores ausentes, se pueden completar con otro nombre.\n",
    "\n",
    "### Dataset order_products.csv\n",
    "\n",
    "- En general el dataset está completo.\n",
    "- Se observa valores ausentes en la columna `'add_to_cart_order'`. Alrededor de `'836'` valores ausentes. Teniendo en cuenta el tamaño del dataset, esta cantidad de datos ausentes no afecta la calidad del dataset.\n",
    "- El tipo de datos de la columna `'add_to_cart_order'` es `'float'`, el tipo de datos debe ser `'entero'`.\n",
    "- Para una mejor lectura del dataset la columna `'reordered'` se puede cambiar a una columna de tipo categórico.\n",
    "\n",
    "### Dataset aisles.csv\n",
    "\n",
    "- El dataset está completo y no se observan datos ausentes.\n",
    "- Los tipos de datos para cada columna son consistentes\n",
    "\n",
    "### Dataset departments.csv\n",
    "\n",
    "- El dataset está completo y no se observan datos ausentes.\n",
    "- Los tipos de datos para cada columna son consistentes"
   ]
  },
  {
   "cell_type": "markdown",
   "id": "8RJHqxVmaVsF",
   "metadata": {
    "id": "8RJHqxVmaVsF"
   },
   "source": [
    "# Paso 2. Preprocesamiento de los datos\n",
    "\n",
    "Preprocesa los datos de la siguiente manera:\n",
    "\n",
    "- Verifica y corrige los tipos de datos (por ejemplo, asegúrate de que las columnas de ID sean números enteros).\n",
    "- Identifica y completa los valores ausentes.\n",
    "- Identifica y elimina los valores duplicados.\n",
    "\n",
    "Asegúrate de explicar qué tipos de valores ausentes y duplicados encontraste, cómo los completaste o eliminaste y por qué usaste esos métodos. ¿Por qué crees que estos valores ausentes y duplicados pueden haber estado presentes en el conjunto de datos?"
   ]
  },
  {
   "cell_type": "markdown",
   "id": "p6poABZQaZYb",
   "metadata": {
    "id": "p6poABZQaZYb"
   },
   "source": [
    "## Plan de solución\n",
    "\n",
    "### Verifica y corrige los tipos de datos\n",
    "\n",
    "- Del paso anterior se pudo identificar que existen algunos tipos de datos inconsistentes, y que existen otros datos que se pueden representar mejor de forma catégorica. En resumen se encontró los siguiente:\n",
    "    - `'instacart_orders.csv'`: \n",
    "        - El tipo de datos de la columna `'days_since_prior_order'` está como tipo `'float'`, debe ser de tipo `'entero'`.\n",
    "        - La columna `'order_dow'` que representa el día de la semana, se puede convertir a una columna de tipo categórico, donde se muestre el nombre del día de la semana y no un número.    \n",
    "    - `'order_products.csv'`:\n",
    "        - El tipo de datos de la columna `'add_to_cart_order'` es `'float'`, el tipo de datos debe ser `'entero'`.\n",
    "        - Para una mejor lectura del dataset la columna `'reordered'` se puede cambiar a una columna de tipo categórico. Donde se pueda leer sí o no.\n",
    "\n",
    "### Identifica y completa los valores ausentes.\n",
    "\n",
    "- En la evaluacion preliminar se econtraron algunos valores ausentes en algunos datasets.\n",
    "- Se validará cada dataset para confirmar los valores ausentes y se procederá a completar, donde sea posible, los valores ausentes.\n",
    "- Se identificaron valores ausentes en los siguientes datasets:\n",
    "    - `'instacart_orders.csv'`:    \n",
    "        - Se observa valores ausentes en la columna: `'days_since_prior_order'`. Son `'28819'` datos ausentes. Estos valores ausentes se podrían reemplazar por la `'mediana'` de los valores de esta columna. Hay que validar primero el por qué se puede estar presentando estos valores ausentes, y determianr si es posible completarlos con otro valor.\n",
    "    - `'products.csv'`:    \n",
    "        - En este dataset hay valores ausentes en la columna: `'product_name'`. Son `'1258'` valores ausentes en esta columna. Estos datos se peuden manejar de dos formas:\n",
    "            - Tratar de inferir el nombre de los productos faltantes con la información de otras tablas, como por ejemplo `'departments'` y `'departments'`.\n",
    "            - En caso de que lo anterior no sea posible, porque no se encuentra información al respecto, se pueden completar como `'unknown'`, ya que esto no afectará la integridad del dataset, ni los futuros análisis.        \n",
    "    - `'order_products.csv'`:\n",
    "        - Se observa valores ausentes en la columna `'add_to_cart_order'`. Alrededor de `'836'` valores ausentes. Teniendo en cuenta el tamaño del dataset, esta cantidad de datos ausentes no afecta la calidad del dataset. Estos datos se pueden completar con el resultado de la `'mediana'` de los valores de la columna en cuestión. O con algún otro valor después de mirar el detalle de los datos ausentes.        \n",
    "    - `'aisles.csv'` y `'departments.csv'`: Para estos datasets no se encontaron valores ausentes.\n",
    "\n",
    "### Identifica y elimina los valores duplicados.\n",
    "\n",
    "- Validar en cada dataset los valores duplicados.\n",
    "- Para cada dataset se identificará un campo o columna para buscar inequivocamente por valores duplicados. Por ejemplo:\n",
    "    - `'instacart_orders.csv'`: En este dataset se puede buscar por valores únicos en la columna `'order_id'`, con la ayuda de los métodos `'duplicated() y sum()'` y `'value_counts()'`.\n",
    "    - `'products.csv'`: En este dataset se puede hacer uso de los métodos `'duplicated() y sum()'`.\n",
    "    - `'order_products.csv'`: En este dataset se puede buscar por valores únicos en la columna `'order_id'`, con la ayuda de los métodos `'duplicated() y sum()'` y `'value_counts()'`.      \n",
    "    - `'aisles.csv'` y `'departments.csv'`: Para estos datasets se puede hacer uso de los métodos `'duplicated() y sum()'`."
   ]
  },
  {
   "cell_type": "markdown",
   "id": "07357848-dc64-4156-9cc3-01ff4365226d",
   "metadata": {
    "id": "07357848-dc64-4156-9cc3-01ff4365226d"
   },
   "source": [
    "## Encuentra y elimina los valores duplicados (y describe cómo tomaste tus decisiones)."
   ]
  },
  {
   "cell_type": "markdown",
   "id": "f179f0a9",
   "metadata": {
    "id": "f179f0a9"
   },
   "source": [
    "### `orders` data frame"
   ]
  },
  {
   "cell_type": "code",
   "execution_count": 35,
   "id": "b99297a5-405a-463d-8535-9adc3da4ad74",
   "metadata": {
    "id": "b99297a5-405a-463d-8535-9adc3da4ad74"
   },
   "outputs": [
    {
     "name": "stdout",
     "output_type": "stream",
     "text": [
      "-- Total de filas duplicadas: 15\n",
      "\n",
      "-- Las filas duplicadas son:\n",
      "         order_id  user_id  order_number  order_dow  order_hour_of_day  \\\n",
      "145574    794638    50898            24          3                  2   \n",
      "223105   2160484   107525            16          3                  2   \n",
      "230807   1918001   188546            14          3                  2   \n",
      "266232   1782114   106752             1          3                  2   \n",
      "273805   1112182   202304            84          3                  2   \n",
      "284038   2845099    31189            11          3                  2   \n",
      "311713   1021560    53767             3          3                  2   \n",
      "321100    408114    68324             4          3                  2   \n",
      "323900   1919531   191501            32          3                  2   \n",
      "345917   2232988    82565             1          3                  2   \n",
      "371905    391768    57671            19          3                  2   \n",
      "394347    467134    63189            21          3                  2   \n",
      "411408   1286742   183220            48          3                  2   \n",
      "415163   2282673    86751            49          3                  2   \n",
      "441599   2125197    14050            48          3                  2   \n",
      "\n",
      "        days_since_prior_order  \n",
      "145574                     2.0  \n",
      "223105                    30.0  \n",
      "230807                    16.0  \n",
      "266232                     NaN  \n",
      "273805                     6.0  \n",
      "284038                     7.0  \n",
      "311713                     9.0  \n",
      "321100                    18.0  \n",
      "323900                     7.0  \n",
      "345917                     NaN  \n",
      "371905                    10.0  \n",
      "394347                     2.0  \n",
      "411408                     4.0  \n",
      "415163                     2.0  \n",
      "441599                     3.0  \n"
     ]
    }
   ],
   "source": [
    "# Se identifica la cantidad de duplicados en el dataset y se muestra en pantalla.\n",
    "duplicated_orders = instacart_orders['order_id'].duplicated().sum()\n",
    "print(f\"-- Total de filas duplicadas: {duplicated_orders}\")\n",
    "print()\n",
    "\n",
    "# Se filtra y se crea un nuevo dataset 'duplicated_orders' de las filas duplicadas y se muestra en pantalla\n",
    "duplicated_orders = instacart_orders[instacart_orders['order_id'].duplicated()]\n",
    "print(f\"-- Las filas duplicadas son:\\n {duplicated_orders}\")"
   ]
  },
  {
   "cell_type": "markdown",
   "id": "PEkwUX_gvt5A",
   "metadata": {
    "id": "PEkwUX_gvt5A"
   },
   "source": [
    "1. **El dataset tiene 15 filas duplicadas.**\n",
    "2. **Tienen en común que los pedidos se realizaron el día miércoles a las 2:00 am.**"
   ]
  },
  {
   "cell_type": "code",
   "execution_count": 36,
   "id": "0d44de5d",
   "metadata": {
    "id": "0d44de5d"
   },
   "outputs": [
    {
     "name": "stdout",
     "output_type": "stream",
     "text": [
      "-- Pedidos realizados el miércoles a las 2:00 a.m: \n",
      "\n",
      "         order_id  user_id  order_number  order_dow  order_hour_of_day  \\\n",
      "4838     2766110   162084            41          3                  2   \n",
      "5156     2190225   138285            18          3                  2   \n",
      "15506     553049    58599            13          3                  2   \n",
      "18420     382357   120200            19          3                  2   \n",
      "24691     690242    77357             2          3                  2   \n",
      "...          ...      ...           ...        ...                ...   \n",
      "457013   3384021    14881             6          3                  2   \n",
      "458816    910166   164782            18          3                  2   \n",
      "459635   1680532   106435             6          3                  2   \n",
      "468324    222962    54979            59          3                  2   \n",
      "477526   2592344    46860            38          3                  2   \n",
      "\n",
      "        days_since_prior_order  \n",
      "4838                      16.0  \n",
      "5156                      11.0  \n",
      "15506                      7.0  \n",
      "18420                     11.0  \n",
      "24691                      9.0  \n",
      "...                        ...  \n",
      "457013                    30.0  \n",
      "458816                     4.0  \n",
      "459635                    21.0  \n",
      "468324                     3.0  \n",
      "477526                     3.0  \n",
      "\n",
      "[121 rows x 6 columns]\n",
      "\n",
      "-- Cantidad de valores únicos para la columna user_id: \n",
      "\n",
      " user_id\n",
      "107525    2\n",
      "188546    2\n",
      "31189     2\n",
      "57671     2\n",
      "106752    2\n",
      "14050     2\n",
      "202304    2\n",
      "183220    2\n",
      "50898     2\n",
      "68324     2\n",
      "63189     2\n",
      "86751     2\n",
      "191501    2\n",
      "53767     2\n",
      "82565     2\n",
      "128530    1\n",
      "29103     1\n",
      "121263    1\n",
      "162084    1\n",
      "70213     1\n",
      "Name: count, dtype: int64\n",
      "\n",
      "-- Existen pedidos duplicados?: \n",
      "         user_id  order_id  order_dow  order_hour_of_day  order_number\n",
      "99462     50898    794638          3                  2            24\n",
      "145574    50898    794638          3                  2            24\n",
      "250626    63189    467134          3                  2            21\n",
      "394347    63189    467134          3                  2            21\n",
      "259636    86751   2282673          3                  2            49\n",
      "415163    86751   2282673          3                  2            49\n",
      "200059   106752   1782114          3                  2             1\n",
      "266232   106752   1782114          3                  2             1\n",
      "30371    188546   1918001          3                  2            14\n",
      "230807   188546   1918001          3                  2            14\n"
     ]
    }
   ],
   "source": [
    "# Basándote en tus hallazgos,\n",
    "# Verifica todos los pedidos que se hicieron el miércoles a las 2:00 a.m.\n",
    "\n",
    "# Se filtra y se crea un nuevos dataset con los pedidos realizados el día miércoles a las 2:00 am.\n",
    "# Luego se muestra en pantalla.\n",
    "orders_wed_two_am = instacart_orders[(instacart_orders['order_dow'] == 3) & (instacart_orders['order_hour_of_day'] == 2)]\n",
    "print(f\"-- Pedidos realizados el miércoles a las 2:00 a.m: \\n\\n {orders_wed_two_am}\")\n",
    "print()\n",
    "# Se cuenta la cantidad de valores únicos para los 'user_id'\n",
    "users_uniques = orders_wed_two_am['user_id'].value_counts()\n",
    "print(f\"-- Cantidad de valores únicos para la columna user_id: \\n\\n {users_uniques.head(20)}\")\n",
    "print()\n",
    "\n",
    "# Se valida si para un user_id específico existe un pedido duplicado. Se valida con user_id que aparezca\n",
    "# más de una vez en user_uniques\n",
    "ids = [106752, 86751, 188546, 50898, 63189]\n",
    "col = ['user_id', 'order_id', 'order_dow', 'order_hour_of_day', 'order_number']\n",
    "is_user_duplicated = orders_wed_two_am[orders_wed_two_am['user_id'].isin(ids)][col].sort_values(by='user_id')\n",
    "print(f\"-- Existen pedidos duplicados?: \\n {is_user_duplicated}\")\n"
   ]
  },
  {
   "cell_type": "markdown",
   "id": "vu2OWyoqwOx5",
   "metadata": {
    "id": "vu2OWyoqwOx5"
   },
   "source": [
    "1. **Se encuentra que existen 121 registros para pedidos realizados el día miércoles a las 2:00 am.**\n",
    "2. **Si se valida la cantidad de valores únicos para la columna `'user_id'` en el dataset `'orders_wed_two_am'` se encuentra que existen \"user_id\" que aparecen mas de una vez, y con el mismo `'order_number'`.**\n",
    "3. **Lo anterior da a entender que existen pedidos duplicados, ya que un mismo usuario no puede realizar dos pedidos con el mismo `'order_number'`.**\n",
    "4. **Para hacer una doble comprobación se filtra el dataset `'orders_wed_two_am'` con algunos de los `'user_id'` que aparecen mas de una vez y se encuentra que efectivamente está duplicado el pedido.**\n",
    "5. **Con base a lo anterior se decide eliminar los pedidos duplicados**"
   ]
  },
  {
   "cell_type": "code",
   "execution_count": 37,
   "id": "480563c7",
   "metadata": {
    "id": "480563c7"
   },
   "outputs": [
    {
     "data": {
      "text/html": [
       "<div>\n",
       "<style scoped>\n",
       "    .dataframe tbody tr th:only-of-type {\n",
       "        vertical-align: middle;\n",
       "    }\n",
       "\n",
       "    .dataframe tbody tr th {\n",
       "        vertical-align: top;\n",
       "    }\n",
       "\n",
       "    .dataframe thead th {\n",
       "        text-align: right;\n",
       "    }\n",
       "</style>\n",
       "<table border=\"1\" class=\"dataframe\">\n",
       "  <thead>\n",
       "    <tr style=\"text-align: right;\">\n",
       "      <th></th>\n",
       "      <th>order_id</th>\n",
       "      <th>user_id</th>\n",
       "      <th>order_number</th>\n",
       "      <th>order_dow</th>\n",
       "      <th>order_hour_of_day</th>\n",
       "      <th>days_since_prior_order</th>\n",
       "    </tr>\n",
       "  </thead>\n",
       "  <tbody>\n",
       "    <tr>\n",
       "      <th>0</th>\n",
       "      <td>1515936</td>\n",
       "      <td>183418</td>\n",
       "      <td>11</td>\n",
       "      <td>6</td>\n",
       "      <td>13</td>\n",
       "      <td>30.0</td>\n",
       "    </tr>\n",
       "    <tr>\n",
       "      <th>1</th>\n",
       "      <td>1690866</td>\n",
       "      <td>163593</td>\n",
       "      <td>5</td>\n",
       "      <td>5</td>\n",
       "      <td>12</td>\n",
       "      <td>9.0</td>\n",
       "    </tr>\n",
       "    <tr>\n",
       "      <th>2</th>\n",
       "      <td>1454967</td>\n",
       "      <td>39980</td>\n",
       "      <td>4</td>\n",
       "      <td>5</td>\n",
       "      <td>19</td>\n",
       "      <td>2.0</td>\n",
       "    </tr>\n",
       "    <tr>\n",
       "      <th>3</th>\n",
       "      <td>1768857</td>\n",
       "      <td>82516</td>\n",
       "      <td>56</td>\n",
       "      <td>0</td>\n",
       "      <td>20</td>\n",
       "      <td>10.0</td>\n",
       "    </tr>\n",
       "    <tr>\n",
       "      <th>4</th>\n",
       "      <td>3007858</td>\n",
       "      <td>196724</td>\n",
       "      <td>2</td>\n",
       "      <td>4</td>\n",
       "      <td>12</td>\n",
       "      <td>17.0</td>\n",
       "    </tr>\n",
       "    <tr>\n",
       "      <th>...</th>\n",
       "      <td>...</td>\n",
       "      <td>...</td>\n",
       "      <td>...</td>\n",
       "      <td>...</td>\n",
       "      <td>...</td>\n",
       "      <td>...</td>\n",
       "    </tr>\n",
       "    <tr>\n",
       "      <th>478947</th>\n",
       "      <td>3210681</td>\n",
       "      <td>5617</td>\n",
       "      <td>5</td>\n",
       "      <td>1</td>\n",
       "      <td>14</td>\n",
       "      <td>7.0</td>\n",
       "    </tr>\n",
       "    <tr>\n",
       "      <th>478948</th>\n",
       "      <td>3270802</td>\n",
       "      <td>112087</td>\n",
       "      <td>2</td>\n",
       "      <td>3</td>\n",
       "      <td>13</td>\n",
       "      <td>6.0</td>\n",
       "    </tr>\n",
       "    <tr>\n",
       "      <th>478949</th>\n",
       "      <td>885349</td>\n",
       "      <td>82944</td>\n",
       "      <td>16</td>\n",
       "      <td>2</td>\n",
       "      <td>11</td>\n",
       "      <td>6.0</td>\n",
       "    </tr>\n",
       "    <tr>\n",
       "      <th>478950</th>\n",
       "      <td>216274</td>\n",
       "      <td>4391</td>\n",
       "      <td>3</td>\n",
       "      <td>3</td>\n",
       "      <td>8</td>\n",
       "      <td>8.0</td>\n",
       "    </tr>\n",
       "    <tr>\n",
       "      <th>478951</th>\n",
       "      <td>2071924</td>\n",
       "      <td>1730</td>\n",
       "      <td>18</td>\n",
       "      <td>1</td>\n",
       "      <td>14</td>\n",
       "      <td>15.0</td>\n",
       "    </tr>\n",
       "  </tbody>\n",
       "</table>\n",
       "<p>478952 rows × 6 columns</p>\n",
       "</div>"
      ],
      "text/plain": [
       "        order_id  user_id  order_number  order_dow  order_hour_of_day  \\\n",
       "0        1515936   183418            11          6                 13   \n",
       "1        1690866   163593             5          5                 12   \n",
       "2        1454967    39980             4          5                 19   \n",
       "3        1768857    82516            56          0                 20   \n",
       "4        3007858   196724             2          4                 12   \n",
       "...          ...      ...           ...        ...                ...   \n",
       "478947   3210681     5617             5          1                 14   \n",
       "478948   3270802   112087             2          3                 13   \n",
       "478949    885349    82944            16          2                 11   \n",
       "478950    216274     4391             3          3                  8   \n",
       "478951   2071924     1730            18          1                 14   \n",
       "\n",
       "        days_since_prior_order  \n",
       "0                         30.0  \n",
       "1                          9.0  \n",
       "2                          2.0  \n",
       "3                         10.0  \n",
       "4                         17.0  \n",
       "...                        ...  \n",
       "478947                     7.0  \n",
       "478948                     6.0  \n",
       "478949                     6.0  \n",
       "478950                     8.0  \n",
       "478951                    15.0  \n",
       "\n",
       "[478952 rows x 6 columns]"
      ]
     },
     "execution_count": 37,
     "metadata": {},
     "output_type": "execute_result"
    }
   ],
   "source": [
    "# Elimina los pedidos duplicados\n",
    "# Se resetean los indices del dataset\n",
    "instacart_orders.drop_duplicates(inplace=True)\n",
    "instacart_orders.reset_index(drop=True)"
   ]
  },
  {
   "cell_type": "code",
   "execution_count": 38,
   "id": "0b2396a2",
   "metadata": {
    "id": "0b2396a2"
   },
   "outputs": [
    {
     "name": "stdout",
     "output_type": "stream",
     "text": [
      "-- Total de filas duplicadas: 0\n",
      "\n"
     ]
    }
   ],
   "source": [
    "# Se valida la cantidad de duplicados\n",
    "\n",
    "duplicated_orders = instacart_orders['order_id'].duplicated().sum()\n",
    "print(f\"-- Total de filas duplicadas: {duplicated_orders}\")\n",
    "print()"
   ]
  },
  {
   "cell_type": "code",
   "execution_count": 39,
   "id": "f6113ef1",
   "metadata": {
    "id": "f6113ef1"
   },
   "outputs": [
    {
     "name": "stdout",
     "output_type": "stream",
     "text": [
      "-- Cantidad de valores únicos para la columna order_id: \n",
      "\n",
      " order_id\n",
      "1515936    1\n",
      "2365274    1\n",
      "336622     1\n",
      "684027     1\n",
      "1115132    1\n",
      "          ..\n",
      "2578130    1\n",
      "1034057    1\n",
      "597364     1\n",
      "2142471    1\n",
      "2071924    1\n",
      "Name: count, Length: 478952, dtype: int64\n",
      "\n"
     ]
    }
   ],
   "source": [
    "# Vuelve a verificar únicamente si hay IDs duplicados de pedidos\n",
    "orders_uniques = instacart_orders['order_id'].value_counts()\n",
    "print(f\"-- Cantidad de valores únicos para la columna order_id: \\n\\n {orders_uniques}\")\n",
    "print()\n"
   ]
  },
  {
   "cell_type": "markdown",
   "id": "5e8905ae",
   "metadata": {
    "id": "5e8905ae"
   },
   "source": [
    "- Lo primero fue validar si había duplicados. Encontrando 15 registos duplicados.\n",
    "- Luego se validó si estos registros duplicados, en realidad lo eran. En este caso se encontró que algunos pedidos se realizaron miércoles a las 2:00 am. Luego se validó si había mas de un pedido para un mismo usario, y siendo posible que un usuario pueda realizar mas de un pedido en el transcurso de una hora, se comprueba el número de la orden. Si el número de la orden es el mismo, esto nos ayuda a confirmar que se trata de un pedido duplicado.\n",
    "- Con la certeza de que se trataban de pedidos duplicados se procedió a eliminar dichos registros y a resetear el índice de la tabla.\n",
    "- Es posible que estos datos duplicados se hayan presentado por un error en la plataforma."
   ]
  },
  {
   "cell_type": "markdown",
   "id": "45e6bc46",
   "metadata": {
    "id": "45e6bc46"
   },
   "source": [
    "### `products` data frame"
   ]
  },
  {
   "cell_type": "code",
   "execution_count": 40,
   "id": "5f526b5b-8175-46fa-a0fd-441767d50e64",
   "metadata": {
    "id": "5f526b5b-8175-46fa-a0fd-441767d50e64"
   },
   "outputs": [
    {
     "name": "stdout",
     "output_type": "stream",
     "text": [
      "-- Cantidad de filas duplicadas: \n",
      "0\n",
      "\n",
      "-- Cantidad de products ID duplicados: \n",
      "product_id\n",
      "1        1\n",
      "33146    1\n",
      "33124    1\n",
      "33125    1\n",
      "33126    1\n",
      "Name: count, dtype: int64\n"
     ]
    }
   ],
   "source": [
    "# Verifica si hay filas totalmente duplicadas\n",
    "duplicated_products = products.duplicated().sum()\n",
    "print(f\"-- Cantidad de filas duplicadas: \\n{duplicated_products}\")\n",
    "print()\n",
    "\n",
    "# Cantidad de id de productos duplicados\n",
    "duplicated_products_id = products['product_id'].value_counts()\n",
    "print(f\"-- Cantidad de products ID duplicados: \\n{duplicated_products_id.head()}\")\n"
   ]
  },
  {
   "cell_type": "code",
   "execution_count": 41,
   "id": "8dfe6730",
   "metadata": {
    "id": "88daa4f4"
   },
   "outputs": [
    {
     "name": "stdout",
     "output_type": "stream",
     "text": [
      "-- Cantidad de ID departments duplicados: \n",
      "department_id\n",
      "11    6564\n",
      "19    6264\n",
      "13    5372\n",
      "7     4366\n",
      "1     4008\n",
      "16    3449\n",
      "17    3085\n",
      "15    2092\n",
      "9     1858\n",
      "4     1684\n",
      "3     1516\n",
      "20    1322\n",
      "21    1258\n",
      "6     1139\n",
      "14    1117\n",
      "18    1081\n",
      "5     1054\n",
      "8      972\n",
      "12     907\n",
      "2      548\n",
      "10      38\n",
      "Name: count, dtype: int64\n",
      "\n",
      "-- Información general del Series duplicated_departments_id: \n",
      " (21,)\n",
      "\n",
      "-- Cantidad de ID departments únicos: \n",
      "21\n"
     ]
    }
   ],
   "source": [
    "#Revisa únicamente si hay ID de departamentos duplicados\n",
    "# Se cuenta el número de registos para el objeto Series\n",
    "duplicated_departments_id = products['department_id'].value_counts(dropna=False)\n",
    "print(f\"-- Cantidad de ID departments duplicados: \\n{duplicated_departments_id}\")\n",
    "print()\n",
    "print(f\"-- Información general del Series duplicated_departments_id: \\n {duplicated_departments_id.shape}\")\n",
    "print()\n",
    "\n",
    "# Comprobar la cantidad de ID deparments, para validar que correspenda con la cantidad de registros del dataset.\n",
    "duplicated_departments_id = products['department_id'].nunique()\n",
    "print(f\"-- Cantidad de ID departments únicos: \\n{duplicated_departments_id}\")"
   ]
  },
  {
   "cell_type": "code",
   "execution_count": 42,
   "id": "c773f0bf",
   "metadata": {
    "id": "c773f0bf"
   },
   "outputs": [
    {
     "name": "stdout",
     "output_type": "stream",
     "text": [
      "-- Valores únicos para la columna 'product_name: \n",
      "product_name\n",
      "NaN                                      1258\n",
      "Chocolate Sandwich Cookies                  1\n",
      "Krinkle Cut Carolina BBQ Potato Chips       1\n",
      "Fresh Ground Turkey- 85% Lean/15% Fat       1\n",
      "Organic Unsweetened Ketchup                 1\n",
      "                                         ... \n",
      "Organic Fresh Carrot Chips                  1\n",
      "Unbleached Jumbo Baking Cups                1\n",
      "Super Glue Gel Control                      1\n",
      "3 Cheese Ravioli                            1\n",
      "BURRITO- STEAK & CHEESE                     1\n",
      "Name: count, Length: 48437, dtype: int64\n",
      "\n",
      "-- Valores únicos para la columna 'product_name_upper': \n",
      "product_name_upper\n",
      "NaN                                                                     1258\n",
      "GREEN TEA WITH GINSENG AND HONEY                                           3\n",
      "CARROT AND CELERY STICKS                                                   2\n",
      "APRICOT ENERGY BAR                                                         2\n",
      "PROACTIVE HEALTH INDOOR WEIGHT & HAIRBALL CARE WITH CHICKEN CAT FOOD       2\n",
      "                                                                        ... \n",
      "ALL NATURAL CHICKEN APPLE SAUSAGE                                          1\n",
      "QUARTERED ARTICHOKE HEARTS                                                 1\n",
      "BIG EYE IPA                                                                1\n",
      "UNSTOPABLES LUSH                                                           1\n",
      "FRESH FOAMING CLEANSER                                                     1\n",
      "Name: count, Length: 48333, dtype: int64\n"
     ]
    }
   ],
   "source": [
    "# Revisa únicamente si hay nombres duplicados de productos (convierte los nombres a letras mayúsculas\n",
    "# para compararlos mejor)\n",
    "\n",
    "# Se valida la cantidad de nombres duplicados de productos sin convertir a mayúsculas los nombres\n",
    "duplicated_name_products = products['product_name'].value_counts(dropna=False)\n",
    "print(f\"-- Valores únicos para la columna 'product_name: \\n{duplicated_name_products}\")\n",
    "print()\n",
    "\n",
    "# Se convierte a mayúsuclas los nombres de los productos, y se crea uan nueva columna llamada: 'product_name_upper'\n",
    "products['product_name_upper'] = products['product_name'].str.upper()\n",
    "\n",
    "# Se cuenta el número de valores únicos en la columna de nombres de productos, ya convertido en mayúsculas\n",
    "duplicated_name_products_upper = products['product_name_upper'].value_counts(dropna=False)\n",
    "print(f\"-- Valores únicos para la columna 'product_name_upper': \\n{duplicated_name_products_upper}\")"
   ]
  },
  {
   "cell_type": "code",
   "execution_count": 43,
   "id": "01efd02e",
   "metadata": {
    "id": "01efd02e"
   },
   "outputs": [
    {
     "name": "stdout",
     "output_type": "stream",
     "text": [
      "-- Cantidad de filas duplicadas por nombre de productos, incluye nombre de productos faltantes: \n",
      "1361\n",
      "\n",
      "-- Listado de nombre de productos duplicados y cuyo nombre de producto existe: \n",
      "      product_id                      product_name  aisle_id  department_id  \\\n",
      "2058        2059                   Biotin 1000 Mcg        47             11   \n",
      "5455        5456  Green Tea With Ginseng and Honey        96             20   \n",
      "5558        5559            Cream Of Mushroom Soup        69             15   \n",
      "7558        7559         Cinnamon Rolls with Icing       105             13   \n",
      "9037        9038            American Cheese slices        21             16   \n",
      "\n",
      "                    product_name_upper  \n",
      "2058                   BIOTIN 1000 MCG  \n",
      "5455  GREEN TEA WITH GINSENG AND HONEY  \n",
      "5558            CREAM OF MUSHROOM SOUP  \n",
      "7558         CINNAMON ROLLS WITH ICING  \n",
      "9037            AMERICAN CHEESE SLICES  \n",
      "\n",
      "-- Ejemplos de productos con nombres duplicados: \n",
      "\n",
      "      product_id     product_name  aisle_id  department_id product_name_upper\n",
      "41            42  Biotin 1000 mcg        47             11    BIOTIN 1000 MCG\n",
      "2058        2059  Biotin 1000 Mcg        47             11    BIOTIN 1000 MCG\n",
      "\n",
      "       product_id    product_name  aisle_id  department_id product_name_upper\n",
      "34944       34945  DRINKING WATER       115              7     DRINKING WATER\n",
      "40938       40939  Drinking Water       115              7     DRINKING WATER\n",
      "\n",
      "       product_id                      product_name  aisle_id  department_id  \\\n",
      "2037         2038  Green Tea with Ginseng and Honey        94              7   \n",
      "5455         5456  Green Tea With Ginseng and Honey        96             20   \n",
      "19813       19814  Green Tea With Ginseng And Honey        94              7   \n",
      "\n",
      "                     product_name_upper  \n",
      "2037   GREEN TEA WITH GINSENG AND HONEY  \n",
      "5455   GREEN TEA WITH GINSENG AND HONEY  \n",
      "19813  GREEN TEA WITH GINSENG AND HONEY  \n",
      "\n",
      "\n",
      "-- Se valida si se eliminaron los productos duplicados: \n",
      "\n",
      "    product_id     product_name  aisle_id  department_id product_name_upper\n",
      "41          42  Biotin 1000 mcg        47             11    BIOTIN 1000 MCG\n",
      "\n",
      "       product_id    product_name  aisle_id  department_id product_name_upper\n",
      "34944       34945  DRINKING WATER       115              7     DRINKING WATER\n",
      "\n",
      "      product_id                      product_name  aisle_id  department_id  \\\n",
      "2037        2038  Green Tea with Ginseng and Honey        94              7   \n",
      "\n",
      "                    product_name_upper  \n",
      "2037  GREEN TEA WITH GINSENG AND HONEY  \n",
      "\n",
      "-- Información general del dataset: \n",
      "\n",
      "<class 'pandas.core.frame.DataFrame'>\n",
      "Index: 49590 entries, 0 to 49687\n",
      "Data columns (total 5 columns):\n",
      " #   Column              Non-Null Count  Dtype \n",
      "---  ------              --------------  ----- \n",
      " 0   product_id          49590 non-null  int64 \n",
      " 1   product_name        48332 non-null  object\n",
      " 2   aisle_id            49590 non-null  int64 \n",
      " 3   department_id       49590 non-null  int64 \n",
      " 4   product_name_upper  48332 non-null  object\n",
      "dtypes: int64(3), object(2)\n",
      "memory usage: 2.3+ MB\n"
     ]
    }
   ],
   "source": [
    "# Revisa si hay nombres duplicados de productos no faltantes\n",
    "duplicated_names = products['product_name_upper'].duplicated().sum()\n",
    "print(f\"-- Cantidad de filas duplicadas por nombre de productos, incluye nombre de productos faltantes: \\n{duplicated_names}\")\n",
    "print()\n",
    "\n",
    "# Se filtra el dataset por los nombres de productos duplicados excluyendo las filas cuyo nombre de producto\n",
    "# no existe\n",
    "duplicated_names = products[(products['product_name_upper'].duplicated()) & ~(products['product_name_upper'].isna())]\n",
    "print(f\"-- Listado de nombre de productos duplicados y cuyo nombre de producto existe: \\n{duplicated_names.head(5)}\")\n",
    "print()\n",
    "print(\"-- Ejemplos de productos con nombres duplicados: \\n\")\n",
    "print(products[products['product_name_upper'] == 'BIOTIN 1000 MCG'])\n",
    "print()\n",
    "print(products[products['product_name_upper'] == 'DRINKING WATER'])\n",
    "print()\n",
    "print(products[products['product_name_upper'] == 'GREEN TEA WITH GINSENG AND HONEY'])\n",
    "print()\n",
    "\n",
    "# Se eliminan las filas productos cuyos nombres de productos están duplicados\n",
    "products = products[~((products['product_name_upper'].duplicated()) & ~(products['product_name_upper'].isna()))]\n",
    "print()\n",
    "\n",
    "print(\"-- Se valida si se eliminaron los productos duplicados: \\n\")\n",
    "print(products[products['product_name_upper'] == 'BIOTIN 1000 MCG'])\n",
    "print()\n",
    "print(products[products['product_name_upper'] == 'DRINKING WATER'])\n",
    "print()\n",
    "print(products[products['product_name_upper'] == 'GREEN TEA WITH GINSENG AND HONEY'])\n",
    "print()\n",
    "\n",
    "products.reset_index(drop=True)\n",
    "print(\"-- Información general del dataset: \\n\")\n",
    "products.info()"
   ]
  },
  {
   "cell_type": "markdown",
   "id": "9da8d293",
   "metadata": {
    "id": "9da8d293"
   },
   "source": [
    "1. Se validó si había filas completamente duplicadas y no se encontró ningún caso. También se validó si existía ID de productos duplicados, tampoco se encontró ninguno.\n",
    "2. Se validó la existencia de ID de departamentos duplicados y tampoco se encontró. Par validar este hallazgo se cruzó la información de la tabla `'departments'` con el resultado de la cuenta de valores únicos de la columna de `'deparments_ID'` de la tabla 'products', y estos valores coinciden.\n",
    "3. Se validó la existencia de nombres de productos duplicados, para ello se pasó los nombres de productos a letras mayúsculas para compararlas, y se encuentran 104 nombres de productos duplicados, excluyendo los registros en donde el campo de nombre de producto está vacío.\n",
    "4. Se validó los registros duplicados y cuyo campo de nombre de producto está vacío. Luego se filtran estos datos vacíos y se obtiene un dataset con los nombres de productos duplicados y cuyo campo de nombre de prodcuto está completo. \n",
    "5. Luego se eliminan los registros duplicados filtrando del dataset original los campos que cuyo nombre de producto están duplicados y cuyo campo de nombrede producto no corresponde a un dato ausente. \n",
    "6. Se hacen algunas validaciones para confirmar que se hayan eliminado correctamente."
   ]
  },
  {
   "cell_type": "markdown",
   "id": "60f30db1",
   "metadata": {
    "id": "60f30db1"
   },
   "source": [
    "### `departments` data frame"
   ]
  },
  {
   "cell_type": "code",
   "execution_count": 44,
   "id": "fb410ad4-0fbf-4b80-bb09-23fdea79afe3",
   "metadata": {
    "id": "fb410ad4-0fbf-4b80-bb09-23fdea79afe3"
   },
   "outputs": [
    {
     "name": "stdout",
     "output_type": "stream",
     "text": [
      "-- Cantidad de filas duplicadas: \n",
      "0\n"
     ]
    }
   ],
   "source": [
    "# Revisa si hay filas totalmente duplicadas\n",
    "duplicated_departments = departments.duplicated().sum()\n",
    "print(f\"-- Cantidad de filas duplicadas: \\n{duplicated_departments}\")"
   ]
  },
  {
   "cell_type": "code",
   "execution_count": 45,
   "id": "332b12bb",
   "metadata": {
    "id": "332b12bb"
   },
   "outputs": [
    {
     "name": "stdout",
     "output_type": "stream",
     "text": [
      "-- Cantidad de valores únicos para deparment_id: \n",
      "department_id\n",
      "1     1\n",
      "12    1\n",
      "20    1\n",
      "19    1\n",
      "18    1\n",
      "17    1\n",
      "16    1\n",
      "15    1\n",
      "14    1\n",
      "13    1\n",
      "11    1\n",
      "2     1\n",
      "10    1\n",
      "9     1\n",
      "8     1\n",
      "7     1\n",
      "6     1\n",
      "5     1\n",
      "4     1\n",
      "3     1\n",
      "21    1\n",
      "Name: count, dtype: int64\n",
      "\n",
      "-- Cantidad de valores únicos para el nombre del departamento: \n",
      "department\n",
      "frozen             1\n",
      "meat seafood       1\n",
      "deli               1\n",
      "snacks             1\n",
      "babies             1\n",
      "household          1\n",
      "dairy eggs         1\n",
      "canned goods       1\n",
      "breakfast          1\n",
      "pantry             1\n",
      "personal care      1\n",
      "other              1\n",
      "bulk               1\n",
      "dry goods pasta    1\n",
      "pets               1\n",
      "beverages          1\n",
      "international      1\n",
      "alcohol            1\n",
      "produce            1\n",
      "bakery             1\n",
      "missing            1\n",
      "Name: count, dtype: int64\n"
     ]
    }
   ],
   "source": [
    "# Revisa únicamente si hay IDs duplicadas de productos\n",
    "duplicated_departments_id = departments['department_id'].value_counts(dropna=False)\n",
    "print(f\"-- Cantidad de valores únicos para deparment_id: \\n{duplicated_departments_id}\")\n",
    "print()\n",
    "\n",
    "# Cantidad de departamentos por nombre\n",
    "duplicated_departments_name = departments['department'].value_counts(dropna=False)\n",
    "print(f\"-- Cantidad de valores únicos para el nombre del departamento: \\n{duplicated_departments_name}\")\n"
   ]
  },
  {
   "cell_type": "markdown",
   "id": "bd30d78e",
   "metadata": {
    "id": "bd30d78e"
   },
   "source": [
    "1. Se validó si existen filas duplicdas en el dataset; y no se encontró ninguna.\n",
    "2. Se validó también la existencias de valores duplicados para los campos `'deparment_id'` y `'department'` y no se encontraron valores duplicados.\n",
    "3. Por lo anterior, no fue necesario realizar ninguna gestión para valores duplicados en este dataset."
   ]
  },
  {
   "cell_type": "markdown",
   "id": "889349c1",
   "metadata": {
    "id": "889349c1"
   },
   "source": [
    "### `aisles` data frame"
   ]
  },
  {
   "cell_type": "code",
   "execution_count": 46,
   "id": "9da89fb9-4679-40f5-ad0d-c34df753a3f8",
   "metadata": {
    "id": "9da89fb9-4679-40f5-ad0d-c34df753a3f8"
   },
   "outputs": [
    {
     "name": "stdout",
     "output_type": "stream",
     "text": [
      "-- Cantidad de filas duplicadas: \n",
      "0\n"
     ]
    }
   ],
   "source": [
    "# Revisa si hay filas totalmente duplicadas\n",
    "duplicated_aisles = aisles.duplicated().sum()\n",
    "print(f\"-- Cantidad de filas duplicadas: \\n{duplicated_aisles}\")"
   ]
  },
  {
   "cell_type": "code",
   "execution_count": 47,
   "id": "da7c2822",
   "metadata": {
    "id": "da7c2822"
   },
   "outputs": [
    {
     "name": "stdout",
     "output_type": "stream",
     "text": [
      "-- Cantidad de valores únicos para aisle_id: \n",
      "aisle_id\n",
      "1      1\n",
      "85     1\n",
      "99     1\n",
      "98     1\n",
      "97     1\n",
      "      ..\n",
      "40     1\n",
      "39     1\n",
      "38     1\n",
      "37     1\n",
      "134    1\n",
      "Name: count, Length: 134, dtype: int64\n",
      "\n",
      "-- Cantidad de valores únicos para el nombre de pasillos: \n",
      "aisle\n",
      "prepared soups salads         1\n",
      "food storage                  1\n",
      "canned fruit applesauce       1\n",
      "juice nectars                 1\n",
      "baking supplies decor         1\n",
      "                             ..\n",
      "dog food care                 1\n",
      "seafood counter               1\n",
      "frozen meals                  1\n",
      "ice cream ice                 1\n",
      "specialty wines champagnes    1\n",
      "Name: count, Length: 134, dtype: int64\n"
     ]
    }
   ],
   "source": [
    "# Revisa únicamente si hay IDs duplicadas de productos\n",
    "duplicated_aisle_id = aisles['aisle_id'].value_counts(dropna=False)\n",
    "print(f\"-- Cantidad de valores únicos para aisle_id: \\n{duplicated_aisle_id}\")\n",
    "print()\n",
    "\n",
    "# Cantidad de pasillos por nombre\n",
    "duplicated_aisle_name = aisles['aisle'].value_counts(dropna=False)\n",
    "print(f\"-- Cantidad de valores únicos para el nombre de pasillos: \\n{duplicated_aisle_name}\")"
   ]
  },
  {
   "cell_type": "markdown",
   "id": "ac63826f",
   "metadata": {
    "id": "ac63826f"
   },
   "source": [
    "1. Se validó si existen filas duplicdas en el dataset y no se encontró ninguna.\n",
    "2. Se validó también la existencias de valores duplicados para los campos `'aisle_id'` y `'aisle'` y no se encontraron valores duplicados.\n",
    "3. Por lo anterior no fue necesario realizar ninguna gestión para valores duplicados en este dataset."
   ]
  },
  {
   "cell_type": "markdown",
   "id": "274cd06a",
   "metadata": {
    "id": "274cd06a"
   },
   "source": [
    "### `order_products` data frame"
   ]
  },
  {
   "cell_type": "code",
   "execution_count": 48,
   "id": "52326689-84a8-4b8f-a881-7c68780f62c9",
   "metadata": {
    "id": "52326689-84a8-4b8f-a881-7c68780f62c9"
   },
   "outputs": [
    {
     "name": "stdout",
     "output_type": "stream",
     "text": [
      "-- Cantidad de filas duplicadas: \n",
      "0\n"
     ]
    }
   ],
   "source": [
    "# Revisa si hay filas totalmente duplicadas\n",
    "duplicated_order_prod = orders_products.duplicated().sum()\n",
    "print(f\"-- Cantidad de filas duplicadas: \\n{duplicated_order_prod}\")"
   ]
  },
  {
   "cell_type": "code",
   "execution_count": 49,
   "id": "7b861391",
   "metadata": {
    "id": "7b861391"
   },
   "outputs": [
    {
     "name": "stdout",
     "output_type": "stream",
     "text": [
      "-- Cantidad de valores únicos para order_id: \n",
      "order_id\n",
      "61355      127\n",
      "3308010    115\n",
      "2136777    108\n",
      "171934     104\n",
      "1959075     98\n",
      "          ... \n",
      "3076918      1\n",
      "2499566      1\n",
      "556604       1\n",
      "171279       1\n",
      "1461911      1\n",
      "Name: count, Length: 450046, dtype: int64\n",
      "\n",
      "-- Cantidad de valores únicos para product_id: \n",
      "product_id\n",
      "24852    66050\n",
      "13176    53297\n",
      "21137    37039\n",
      "21903    33971\n",
      "47209    29773\n",
      "         ...  \n",
      "47987        1\n",
      "26408        1\n",
      "24435        1\n",
      "36946        1\n",
      "40024        1\n",
      "Name: count, Length: 45573, dtype: int64\n"
     ]
    }
   ],
   "source": [
    "# Vuelve a verificar si hay cualquier otro duplicado engañoso\n",
    "# Validar duplicados para order id\n",
    "duplicated_order_prod_ord_id = orders_products['order_id'].value_counts(dropna=False)\n",
    "print(f\"-- Cantidad de valores únicos para order_id: \\n{duplicated_order_prod_ord_id}\")\n",
    "print()\n",
    "# Cantidad de valores únicos para product_id\n",
    "duplicated_order_prod_pro_id = orders_products['product_id'].value_counts()\n",
    "print(f\"-- Cantidad de valores únicos para product_id: \\n{duplicated_order_prod_pro_id}\")\n"
   ]
  },
  {
   "cell_type": "markdown",
   "id": "0b890492",
   "metadata": {
    "id": "0b890492"
   },
   "source": [
    "1. Se validó si había filas complentamente duplicadas y no se econtró ninguna.\n",
    "2. Se validó valores duplicados para las columnas `'order_id'` y `'product_id'` y se encontraron duplicados. Lo cual tiene sentido porque en un pedido se puede incluir varios productos.\n",
    "3. Para las columnas `'add_to_cart_order'` y `'reordered'` no tiene sentido validar duplicados porque dada la naturaleza de estos datos, va a haber duplicados."
   ]
  },
  {
   "cell_type": "markdown",
   "id": "1e46de76",
   "metadata": {
    "id": "1e46de76"
   },
   "source": [
    "## Encuentra y elimina los valores ausentes\n",
    "\n",
    "Al trabajar con valores duplicados, pudimos observar que también nos falta investigar valores ausentes:\n",
    "\n",
    "* La columna `'product_name'` de la tabla products.\n",
    "* La columna `'days_since_prior_order'` de la tabla orders.\n",
    "* La columna `'add_to_cart_order'` de la tabla order_productos."
   ]
  },
  {
   "cell_type": "markdown",
   "id": "c0aebd78",
   "metadata": {
    "id": "c0aebd78"
   },
   "source": [
    "### `products` data frame"
   ]
  },
  {
   "cell_type": "code",
   "execution_count": 50,
   "id": "fe4a8b0f",
   "metadata": {
    "id": "fe4a8b0f"
   },
   "outputs": [
    {
     "name": "stdout",
     "output_type": "stream",
     "text": [
      "-- Registros con valores ausentes en la columna 'product_name': \n",
      "       product_id product_name  aisle_id  department_id product_name_upper\n",
      "3378         3379          NaN       100             21                NaN\n",
      "30803       30804          NaN       100             21                NaN\n",
      "10689       10690          NaN       100             21                NaN\n",
      "49481       49482          NaN       100             21                NaN\n",
      "40795       40796          NaN       100             21                NaN\n",
      "27031       27032          NaN       100             21                NaN\n",
      "15060       15061          NaN       100             21                NaN\n",
      "47358       47359          NaN       100             21                NaN\n",
      "36750       36751          NaN       100             21                NaN\n",
      "34170       34171          NaN       100             21                NaN\n",
      "\n",
      "-- Cantidad de registros con valores ausentes en la columna 'product_name': \n",
      "1258\n"
     ]
    }
   ],
   "source": [
    "# Encuentra los valores ausentes en la columna 'product_name'\n",
    "absent_values_prod_name = products[products['product_name'].isna()]\n",
    "print(f\"-- Registros con valores ausentes en la columna 'product_name': \\n{absent_values_prod_name.sample(10)}\")\n",
    "print()\n",
    "print(f\"-- Cantidad de registros con valores ausentes en la columna 'product_name': \\n{products['product_name'].isna().sum()}\")"
   ]
  },
  {
   "cell_type": "markdown",
   "id": "-A6x1AbJhjkp",
   "metadata": {
    "id": "-A6x1AbJhjkp"
   },
   "source": [
    "1. Se valdia lo encontrado en la exploración inicial del dataset, la columna `'product_name'` tiene valores ausentes.\n",
    "2. Validando algunos registros, cuyo campo `'product_name'` está vacío, coincide que los campos para el pasillo y departamento corresponden a los valores 100 y 21 respectivamente."
   ]
  },
  {
   "cell_type": "code",
   "execution_count": 51,
   "id": "e96167bc",
   "metadata": {
    "id": "e96167bc"
   },
   "outputs": [
    {
     "name": "stdout",
     "output_type": "stream",
     "text": [
      "-- Cantidad de registros con valor 100 en la columna 'aisle_id': \n",
      "aisle_id\n",
      "100    1258\n",
      "Name: count, dtype: int64\n"
     ]
    }
   ],
   "source": [
    "#  ¿Todos los nombres de productos ausentes están relacionados con el pasillo con ID 100?\n",
    "print(f\"-- Cantidad de registros con valor 100 en la columna 'aisle_id': \\n{absent_values_prod_name['aisle_id'].value_counts()}\")"
   ]
  },
  {
   "cell_type": "markdown",
   "id": "WRpIfXRphpSL",
   "metadata": {
    "id": "WRpIfXRphpSL"
   },
   "source": [
    "1. Se cuenta la cantidad de veces que aparece el id 100 en la columna `'aisle_id'`.\n",
    "2. El resultado coincide con la cantidad de registros ausentes en la columna `'product_name'`: 1258"
   ]
  },
  {
   "cell_type": "code",
   "execution_count": 52,
   "id": "8fd0a541",
   "metadata": {
    "id": "8fd0a541"
   },
   "outputs": [
    {
     "name": "stdout",
     "output_type": "stream",
     "text": [
      "-- Cantidad de registros con valor 21 en la columna 'department_id': \n",
      "department_id\n",
      "21    1258\n",
      "Name: count, dtype: int64\n"
     ]
    }
   ],
   "source": [
    "# ¿Todos los nombres de productos ausentes están relacionados con el departamento con ID 21?\n",
    "print(f\"-- Cantidad de registros con valor 21 en la columna 'department_id': \\n{absent_values_prod_name['department_id'].value_counts()}\")"
   ]
  },
  {
   "cell_type": "markdown",
   "id": "qDpdYn1Fht_I",
   "metadata": {
    "id": "qDpdYn1Fht_I"
   },
   "source": [
    "1. Se cuenta la cantidad de veces que aparece el id 21 en la columna `'department_id'`.\n",
    "2. El resultado coincide con la cantidad de registros ausentes en la columna `'product_name'`: 1258\n",
    "3. Por lo anterior hay que revisar que pasó con los datos del pasillo 100 y el departamento 21 en sus respectivas tablas."
   ]
  },
  {
   "cell_type": "code",
   "execution_count": 53,
   "id": "325c3464",
   "metadata": {
    "id": "325c3464"
   },
   "outputs": [
    {
     "name": "stdout",
     "output_type": "stream",
     "text": [
      "-- Nombre del pasillo 100:\n",
      "    aisle_id    aisle\n",
      "99       100  missing\n",
      "\n",
      "-- Nombre del departamento 21: \n",
      "    department_id department\n",
      "20             21    missing\n"
     ]
    }
   ],
   "source": [
    "# Usa las tablas department y aisle para revisar los datos del pasillo con ID 100 y el departamento con ID 21.\n",
    "aisle_100 = aisles[aisles['aisle_id'] == 100]\n",
    "print(f\"-- Nombre del pasillo 100:\\n{aisle_100}\")\n",
    "print()\n",
    "department_21 = departments[departments['department_id'] == 21]\n",
    "print(f\"-- Nombre del departamento 21: \\n{department_21}\")"
   ]
  },
  {
   "cell_type": "markdown",
   "id": "nqhSTUPhhvEJ",
   "metadata": {
    "id": "nqhSTUPhhvEJ"
   },
   "source": [
    "1. De acuerdo a lo anterior no se cuenta con los nombres del pasillo 100, ni del departamento 21.\n",
    "2. Al no contar con información acerca del nombre del producto es necesario completar los valores ausentes en la columna `'product_name'` del dataset `'products'` con el valor `'Unknown'`"
   ]
  },
  {
   "cell_type": "code",
   "execution_count": 54,
   "id": "6b295120",
   "metadata": {
    "id": "6b295120"
   },
   "outputs": [
    {
     "name": "stdout",
     "output_type": "stream",
     "text": [
      "-- Cantidad de registros con valores ausentes en la columna 'product_name': \n",
      "0\n"
     ]
    }
   ],
   "source": [
    "# Completa los nombres de productos ausentes con 'Unknown'\n",
    "# Se usa el método fillna() para completar los valores ausentes con el valor 'Unknown'\n",
    "products['product_name'] = products['product_name'].fillna(value='Unknown')\n",
    "\n",
    "# Se valida que se haya completado correctamente el reemplazo\n",
    "print(f\"-- Cantidad de registros con valores ausentes en la columna 'product_name': \\n{products['product_name'].isna().sum()}\")"
   ]
  },
  {
   "cell_type": "markdown",
   "id": "fc70e5ad",
   "metadata": {
    "id": "fc70e5ad"
   },
   "source": [
    "1. Se valida la existencia de valores ausentes en la columna `'product_name'`.\n",
    "2. Se encuentra que estos valores ausentes están relacionados con el pasillo 100 del dataset `'aisles'` y con el departamento 21 del dataset `'departments'`.\n",
    "3. Se valida en cada uno de los datasets la información correspondiente y se encuentra que no hay datos para dichos valores en sus respectivas tablas.\n",
    "4. Teniendo en cuanta lo anterior se decide completar los datos ausentes de la columna `'product_name'` con el valor `'Unknown'`.\n",
    "5. Finalmente se comprueba si la operación se hizo correctamente, quedando así completos los datos del dataset."
   ]
  },
  {
   "cell_type": "markdown",
   "id": "7eb45c86",
   "metadata": {
    "id": "7eb45c86"
   },
   "source": [
    "### `orders` data frame"
   ]
  },
  {
   "cell_type": "code",
   "execution_count": 55,
   "id": "93e41d96",
   "metadata": {
    "id": "93e41d96"
   },
   "outputs": [
    {
     "name": "stdout",
     "output_type": "stream",
     "text": [
      "-- Información general del dataset:\n",
      "<class 'pandas.core.frame.DataFrame'>\n",
      "Index: 478952 entries, 0 to 478966\n",
      "Data columns (total 6 columns):\n",
      " #   Column                  Non-Null Count   Dtype  \n",
      "---  ------                  --------------   -----  \n",
      " 0   order_id                478952 non-null  int64  \n",
      " 1   user_id                 478952 non-null  int64  \n",
      " 2   order_number            478952 non-null  int64  \n",
      " 3   order_dow               478952 non-null  int64  \n",
      " 4   order_hour_of_day       478952 non-null  int64  \n",
      " 5   days_since_prior_order  450135 non-null  float64\n",
      "dtypes: float64(1), int64(5)\n",
      "memory usage: 25.6 MB\n",
      "\n",
      "-- Listado de valores ausentes: \n",
      "days_since_prior_order\n",
      "30.0    51337\n",
      "7.0     44577\n",
      "6.0     33930\n",
      "4.0     31006\n",
      "3.0     30224\n",
      "5.0     30096\n",
      "NaN     28817\n",
      "2.0     27138\n",
      "8.0     25361\n",
      "1.0     20179\n",
      "9.0     16753\n",
      "14.0    13992\n",
      "10.0    13309\n",
      "13.0    11737\n",
      "11.0    11467\n",
      "12.0    10658\n",
      "0.0      9589\n",
      "15.0     9416\n",
      "16.0     6587\n",
      "21.0     6448\n",
      "17.0     5498\n",
      "20.0     5302\n",
      "18.0     4971\n",
      "19.0     4939\n",
      "22.0     4514\n",
      "28.0     3745\n",
      "23.0     3337\n",
      "24.0     3015\n",
      "27.0     2986\n",
      "25.0     2711\n",
      "29.0     2673\n",
      "26.0     2640\n",
      "Name: count, dtype: int64\n",
      "\n",
      "-- Lista de valores ausentes: \n",
      "     order_id  user_id  order_number  order_dow  order_hour_of_day  \\\n",
      "28     133707   182261             1          3                 10   \n",
      "96     787445    25685             1          6                 18   \n",
      "100    294410   111449             1          0                 19   \n",
      "103   2869915   123958             1          4                 16   \n",
      "104   2521921    42286             1          3                 18   \n",
      "\n",
      "     days_since_prior_order  \n",
      "28                      NaN  \n",
      "96                      NaN  \n",
      "100                     NaN  \n",
      "103                     NaN  \n",
      "104                     NaN  \n"
     ]
    }
   ],
   "source": [
    "# Encuentra los valores ausentes\n",
    "# Validar valores ausentes en el dataframe con el método info()\n",
    "print(\"-- Información general del dataset:\")\n",
    "instacart_orders.info(show_counts=True)\n",
    "print()\n",
    "\n",
    "# Listado de valores únicos en la columna days_since_prior_order\n",
    "absent_values_orders_uniques = instacart_orders['days_since_prior_order'].value_counts(dropna=False)\n",
    "print(f\"-- Listado de valores ausentes: \\n{absent_values_orders_uniques}\")\n",
    "print()\n",
    "\n",
    "# Listado de registro de valores ausentes en la columna days_since_prior_order\n",
    "absent_values_orders = instacart_orders[instacart_orders['days_since_prior_order'].isna()]\n",
    "print(f\"-- Lista de valores ausentes: \\n{absent_values_orders.head()}\")"
   ]
  },
  {
   "cell_type": "code",
   "execution_count": 56,
   "id": "166e5a86",
   "metadata": {
    "id": "166e5a86"
   },
   "outputs": [
    {
     "name": "stdout",
     "output_type": "stream",
     "text": [
      "-- Listado de valores ausentes: \n",
      "Empty DataFrame\n",
      "Columns: [order_id, user_id, order_number, order_dow, order_hour_of_day, days_since_prior_order]\n",
      "Index: []\n",
      "-- Listado de valores ausentes: \n",
      "days_since_prior_order\n",
      "30.0    51337\n",
      "7.0     44577\n",
      "0.0     38406\n",
      "6.0     33930\n",
      "4.0     31006\n",
      "3.0     30224\n",
      "5.0     30096\n",
      "2.0     27138\n",
      "8.0     25361\n",
      "1.0     20179\n",
      "9.0     16753\n",
      "14.0    13992\n",
      "10.0    13309\n",
      "13.0    11737\n",
      "11.0    11467\n",
      "12.0    10658\n",
      "15.0     9416\n",
      "16.0     6587\n",
      "21.0     6448\n",
      "17.0     5498\n",
      "20.0     5302\n",
      "18.0     4971\n",
      "19.0     4939\n",
      "22.0     4514\n",
      "28.0     3745\n",
      "23.0     3337\n",
      "24.0     3015\n",
      "27.0     2986\n",
      "25.0     2711\n",
      "29.0     2673\n",
      "26.0     2640\n",
      "Name: count, dtype: int64\n",
      "\n",
      "<class 'pandas.core.frame.DataFrame'>\n",
      "Index: 478952 entries, 0 to 478966\n",
      "Data columns (total 6 columns):\n",
      " #   Column                  Non-Null Count   Dtype\n",
      "---  ------                  --------------   -----\n",
      " 0   order_id                478952 non-null  int64\n",
      " 1   user_id                 478952 non-null  int64\n",
      " 2   order_number            478952 non-null  int64\n",
      " 3   order_dow               478952 non-null  int64\n",
      " 4   order_hour_of_day       478952 non-null  int64\n",
      " 5   days_since_prior_order  478952 non-null  int64\n",
      "dtypes: int64(6)\n",
      "memory usage: 25.6 MB\n",
      "\n"
     ]
    }
   ],
   "source": [
    "# ¿Hay algún valor ausente que no sea el primer pedido del cliente?\n",
    "# Listado de registros de valores ausentes en la columna 'days_since_prior_order' y que el 'order_number' \n",
    "# sea diferente de 1\n",
    "absent_values_orders = instacart_orders[(instacart_orders['days_since_prior_order'].isna()) & (instacart_orders['order_number'] != 1)]\n",
    "print(f\"-- Listado de valores ausentes: \\n{absent_values_orders}\")\n",
    "\n",
    "# Reemplazar los valores ausentes en la columna 'days_since_prior_order' por ceros\n",
    "instacart_orders['days_since_prior_order'] = instacart_orders['days_since_prior_order'].fillna(0)\n",
    "\n",
    "# Listado de valores únicos en la columna days_since_prior_order\n",
    "absent_values_orders_uniques = instacart_orders['days_since_prior_order'].value_counts(dropna=False)\n",
    "print(f\"-- Listado de valores ausentes: \\n{absent_values_orders_uniques}\")\n",
    "print()\n",
    "\n",
    "# Conversión del tipo de datos de la columna 'days_since_prior_order' de 'float' a 'int'\n",
    "instacart_orders['days_since_prior_order'] = instacart_orders['days_since_prior_order'].astype('int')\n",
    "#\n",
    "instacart_orders.info()\n",
    "print()\n"
   ]
  },
  {
   "cell_type": "markdown",
   "id": "4e23d089",
   "metadata": {
    "id": "4e23d089"
   },
   "source": [
    "1. Se validó la existencia de valores ausentes en la columna `'days_since_prior_order'`.\n",
    "2. Se encontró que esos valores ausente correspondían a la primera orden de un cliente, validando que los valores de `'order_number'` fuesen igual a 1.\n",
    "3. Al tratarse del primer pedido de un cliente se decidió completar los valores ausentes con el valor 0.\n",
    "4. Se cambió el tipo de datos de la columna `'days_since_prior_order'` de tipo `'float'` a tipo `'int'`.\n",
    "5. Finalmente se realizó la conversión de los valores numéricos de la columna `'order_dow'` a los nombres del día de la semana. Es más descriptivo utilizar el nombre del día que un número."
   ]
  },
  {
   "cell_type": "markdown",
   "id": "69dc9ca4",
   "metadata": {
    "id": "69dc9ca4"
   },
   "source": [
    "### `order_products` data frame"
   ]
  },
  {
   "cell_type": "code",
   "execution_count": 57,
   "id": "b8240253",
   "metadata": {
    "id": "b8240253"
   },
   "outputs": [
    {
     "name": "stdout",
     "output_type": "stream",
     "text": [
      "-- Información general del dataset:\n",
      "<class 'pandas.core.frame.DataFrame'>\n",
      "RangeIndex: 4545007 entries, 0 to 4545006\n",
      "Data columns (total 4 columns):\n",
      " #   Column             Non-Null Count    Dtype  \n",
      "---  ------             --------------    -----  \n",
      " 0   order_id           4545007 non-null  int64  \n",
      " 1   product_id         4545007 non-null  int64  \n",
      " 2   add_to_cart_order  4544171 non-null  float64\n",
      " 3   reordered          4545007 non-null  int64  \n",
      "dtypes: float64(1), int64(3)\n",
      "memory usage: 138.7 MB\n",
      "\n",
      "-- Listado de valores ausentes: \n",
      "add_to_cart_order\n",
      "1.0     450046\n",
      "2.0     428199\n",
      "3.0     401907\n",
      "4.0     372861\n",
      "5.0     341807\n",
      "         ...  \n",
      "60.0       127\n",
      "61.0       114\n",
      "62.0        98\n",
      "63.0        87\n",
      "64.0        75\n",
      "Name: count, Length: 65, dtype: int64\n",
      "\n",
      "-- Listado de registros valores ausentes: \n",
      "       order_id  product_id  add_to_cart_order  reordered\n",
      "737     2449164        5068                NaN          0\n",
      "9926    1968313       43867                NaN          0\n",
      "14394   2926893       11688                NaN          0\n",
      "16418   1717990        4142                NaN          0\n",
      "30114   1959075       42828                NaN          1\n"
     ]
    }
   ],
   "source": [
    "# Encuentra los valores ausentes\n",
    "# Validar valores ausentes en el dataframe con el método 'info()'\n",
    "print(\"-- Información general del dataset:\")\n",
    "orders_products.info(show_counts=True)\n",
    "print()\n",
    "\n",
    "# Listado de valores únicos en la columna 'days_since_prior_order'\n",
    "absent_values_order_product = orders_products['add_to_cart_order'].value_counts(dropna=False)\n",
    "print(f\"-- Listado de valores ausentes: \\n{absent_values_order_product}\")\n",
    "print()\n",
    "\n",
    "# Listado de registro de valores ausentes en la columna 'days_since_prior_order'\n",
    "absent_values_order_product = orders_products[orders_products['add_to_cart_order'].isna()]\n",
    "print(f\"-- Listado de registros valores ausentes: \\n{absent_values_order_product.head()}\")"
   ]
  },
  {
   "cell_type": "code",
   "execution_count": 58,
   "id": "9a78e5ee",
   "metadata": {
    "id": "9a78e5ee"
   },
   "outputs": [
    {
     "name": "stdout",
     "output_type": "stream",
     "text": [
      "-- El valor máximo para la columna 'add_to_cart_order' es: 64.0\n",
      "\n",
      "-- El valor mínimo para la columna 'add_to_cart_order' es: 1.0\n"
     ]
    }
   ],
   "source": [
    "# ¿Cuáles son los valores mínimos y máximos en esta columna?\n",
    "print(f\"-- El valor máximo para la columna 'add_to_cart_order' es: {orders_products['add_to_cart_order'].max()}\")\n",
    "print()\n",
    "print(f\"-- El valor mínimo para la columna 'add_to_cart_order' es: {orders_products['add_to_cart_order'].min()}\")"
   ]
  },
  {
   "cell_type": "markdown",
   "id": "-Z2Ja215jW78",
   "metadata": {
    "id": "-Z2Ja215jW78"
   },
   "source": [
    "1. Se valida la existencia de valores ausentes en la columna `'add_to_cart_order'`.\n",
    "2. Se encuentran los valores máximo y mínimo para la columna. Y se valida que el rango de datos dicha columna está entre 1 y 64."
   ]
  },
  {
   "cell_type": "code",
   "execution_count": 59,
   "id": "ab9d0c2b",
   "metadata": {
    "id": "ab9d0c2b"
   },
   "outputs": [
    {
     "name": "stdout",
     "output_type": "stream",
     "text": [
      "737        2449164\n",
      "9926       1968313\n",
      "14394      2926893\n",
      "16418      1717990\n",
      "30114      1959075\n",
      "            ...   \n",
      "4505662    1800005\n",
      "4511400    1633337\n",
      "4517562     404157\n",
      "4534112    1673227\n",
      "4535739    1832957\n",
      "Name: order_id, Length: 836, dtype: int64\n"
     ]
    }
   ],
   "source": [
    "# Guarda todas las IDs de pedidos que tengan un valor ausente en 'add_to_cart_order'\n",
    "absent_values_id = orders_products[orders_products['add_to_cart_order'].isna()]['order_id']\n",
    "print(absent_values_id)"
   ]
  },
  {
   "cell_type": "code",
   "execution_count": 60,
   "id": "54c31695",
   "metadata": {
    "id": "54c31695"
   },
   "outputs": [
    {
     "name": "stdout",
     "output_type": "stream",
     "text": [
      "-- Listado del ID de la orden y de los ID de productos para \n",
      "los campos con valores ausentes en la columna 'add_to_cart_order': \n",
      "      order_id  product_id\n",
      "267    2094761       31469\n",
      "737    2449164        5068\n",
      "1742   2997021        4920\n",
      "3463    871281       40063\n",
      "3535    171934       36397\n",
      "\n",
      "-- ID de productos ordenados por el ID de cada orden: \n",
      "          product_id\n",
      "order_id            \n",
      "9310              65\n",
      "747668            65\n",
      "1598369           65\n",
      "1677118           65\n",
      "2170451           65\n",
      "...              ...\n",
      "1959075           98\n",
      "171934           104\n",
      "2136777          108\n",
      "3308010          115\n",
      "61355            127\n",
      "\n",
      "[70 rows x 1 columns]\n",
      "-- El valor mínimo de productos en una orden es: \n",
      "product_id    65\n",
      "dtype: int64\n"
     ]
    }
   ],
   "source": [
    "# ¿Todos los pedidos con valores ausentes tienen más de 64 productos?\n",
    "# Agrupa todos los pedidos con datos ausentes por su ID de pedido.\n",
    "# Cuenta el número de 'product_id' en cada pedido y revisa el valor mínimo del conteo.\n",
    "####\n",
    "# Se filtra el dataset teniendo como filtro el ID de pedidos y se extraen los datos\n",
    "# del ID del producto para cada pedido.\n",
    "columns = ['order_id', 'product_id']\n",
    "absent_values_list = orders_products[orders_products['order_id'].isin(absent_values_id)][columns]\n",
    "print(f\"-- Listado del ID de la orden y de los ID de productos para \\nlos campos con valores ausentes en la columna 'add_to_cart_order': \\n{absent_values_list.head()}\")\n",
    "print()\n",
    "\n",
    "# Los datos en 'absent_values_list' se agrupan por 'order_id' y se cuenta el product ID para cada orden\n",
    "absent_values_list_group = absent_values_list.groupby(by='order_id').count().sort_values(by='product_id')\n",
    "print(f\"-- ID de productos ordenados por el ID de cada orden: \\n{absent_values_list_group}\")\n",
    "print(f\"-- El valor mínimo de productos en una orden es: \\n{absent_values_list_group.min()}\")"
   ]
  },
  {
   "cell_type": "markdown",
   "id": "p9V6pddtjglj",
   "metadata": {
    "id": "p9V6pddtjglj"
   },
   "source": [
    "1. Se encontró que las órdenes de pedidos con valores ausentes en la columna `'add_to_cart_order'` tienen desde 65 pedidos en adelante, siendo 127 el máximo valor."
   ]
  },
  {
   "cell_type": "code",
   "execution_count": 61,
   "id": "7a987d08",
   "metadata": {
    "id": "7a987d08"
   },
   "outputs": [
    {
     "name": "stdout",
     "output_type": "stream",
     "text": [
      "-- Cantidad de valores ausentes en 'add_to_cart_order': \n",
      "0\n",
      "\n",
      "-- Valor máximo en 'add_to_cart_order': \n",
      "999.0\n",
      "\n",
      "<class 'pandas.core.frame.DataFrame'>\n",
      "RangeIndex: 4545007 entries, 0 to 4545006\n",
      "Data columns (total 4 columns):\n",
      " #   Column             Dtype\n",
      "---  ------             -----\n",
      " 0   order_id           int64\n",
      " 1   product_id         int64\n",
      " 2   add_to_cart_order  int64\n",
      " 3   reordered          int64\n",
      "dtypes: int64(4)\n",
      "memory usage: 138.7 MB\n",
      "\n",
      "           order_id    product_id  add_to_cart_order     reordered\n",
      "count  4.545007e+06  4.545007e+06       4.545007e+06  4.545007e+06\n",
      "mean   1.711166e+06  2.558084e+04       8.533887e+00  5.905025e-01\n",
      "std    9.850955e+05  1.409552e+04       1.518562e+01  4.917411e-01\n",
      "min    4.000000e+00  1.000000e+00       1.000000e+00  0.000000e+00\n",
      "25%    8.608170e+05  1.353500e+04       3.000000e+00  0.000000e+00\n",
      "50%    1.711530e+06  2.527200e+04       6.000000e+00  1.000000e+00\n",
      "75%    2.561311e+06  3.793500e+04       1.100000e+01  1.000000e+00\n",
      "max    3.421079e+06  4.969400e+04       9.990000e+02  1.000000e+00\n"
     ]
    }
   ],
   "source": [
    "# Remplaza los valores ausentes en la columna 'add_to_cart_order' con 999 y convierte la columna al tipo entero.\n",
    "####\n",
    "# Remplazar datos ausentes en 'add_to_cart_order'. Comprobar el valor máximo y cantidad da datos ausentes\n",
    "orders_products['add_to_cart_order'] = orders_products['add_to_cart_order'].fillna(999)\n",
    "print(f\"-- Cantidad de valores ausentes en 'add_to_cart_order': \\n{orders_products['add_to_cart_order'].isna().sum()}\")\n",
    "print()\n",
    "print(f\"-- Valor máximo en 'add_to_cart_order': \\n{orders_products['add_to_cart_order'].max()}\")\n",
    "print()\n",
    "# Cambiar el tipo de datos de float a int para la columna 'add_to_cart_order' y validar el tipo de datos en el dataset\n",
    "orders_products['add_to_cart_order'] = orders_products['add_to_cart_order'].astype('int')\n",
    "orders_products.info()\n",
    "print()\n",
    "print(orders_products.describe())\n"
   ]
  },
  {
   "cell_type": "markdown",
   "id": "fea4bcc7",
   "metadata": {
    "id": "fea4bcc7"
   },
   "source": [
    "1. Se validó la exitencia de datos ausentes en la columna `'add_to_cart_order'`.\n",
    "2. Se pudo determinar que todos los registros con datos ausentes en la columna `'add_to_cart_order'` coincidían con órdenes de pedidos que tenían mas de 64 productos.\n",
    "3. Con esta información se decicidió completar los valores ausentes con el valor 999.\n",
    "4. Se cambió el tipo de datos de la columna `'add_to_cart_order'` de `'float'` a `'int'`."
   ]
  },
  {
   "cell_type": "markdown",
   "id": "RnplPFY1gSrb",
   "metadata": {
    "id": "RnplPFY1gSrb"
   },
   "source": [
    "## Conclusiones\n",
    "\n",
    "1. El preprocesamiento de datos es una tarea que exige atención al detalle y la necesidad de conocer bien los dataset.\n",
    "2. Es importante evaluar bien los datos duplicados. No todas las veces los datos duplicados corresponden a datos de más, hay que ser cuidadosos para no eliminar información del dataset.\n",
    "3. Los datos ausentes merecen especial atención. Hay que ser cuidadosos al momento de elegir cómo y con qué completar dichos datos.\n",
    "4. Hay que tener en cuenta los tipos de datos de los dataset, es importante mantener la consistencia entre los datos y lo que representan.\n"
   ]
  },
  {
   "cell_type": "markdown",
   "id": "UjrOIwTcz3ri",
   "metadata": {
    "id": "UjrOIwTcz3ri"
   },
   "source": [
    "# Paso 3. Análisis de los datos\n",
    "\n",
    "Una vez los datos estén procesados y listos, haz el siguiente análisis:"
   ]
  },
  {
   "cell_type": "markdown",
   "id": "turkish-kidney",
   "metadata": {
    "id": "turkish-kidney"
   },
   "source": [
    "# [A] Fácil (deben completarse todos para aprobar)\n",
    "\n",
    "1. Verifica que los valores en las columnas `'order_hour_of_day'` y `'order_dow'` en la tabla orders sean razonables (es decir, `'order_hour_of_day'` oscile entre 0 y 23 y `'order_dow'` oscile entre 0 y 6).\n",
    "2. Crea un gráfico que muestre el número de personas que hacen pedidos dependiendo de la hora del día.\n",
    "3. Crea un gráfico que muestre qué día de la semana la gente hace sus compras.\n",
    "4. Crea un gráfico que muestre el tiempo que la gente espera hasta hacer su siguiente pedido, y comenta sobre los valores mínimos y máximos."
   ]
  },
  {
   "cell_type": "markdown",
   "id": "short-capability",
   "metadata": {
    "id": "short-capability"
   },
   "source": [
    "### [A1] Verifica que los valores sean sensibles"
   ]
  },
  {
   "cell_type": "code",
   "execution_count": 62,
   "id": "growing-fruit",
   "metadata": {
    "id": "growing-fruit"
   },
   "outputs": [
    {
     "name": "stdout",
     "output_type": "stream",
     "text": [
      "[ 0  1  2  3  4  5  6  7  8  9 10 11 12 13 14 15 16 17 18 19 20 21 22 23]\n"
     ]
    }
   ],
   "source": [
    "# Se imprimens los valores únicos de la columna 'order_hour_day' para validar su consistencia.\n",
    "data_check_hour = instacart_orders['order_hour_of_day'].unique()\n",
    "print(np.sort(data_check_hour))"
   ]
  },
  {
   "cell_type": "code",
   "execution_count": 63,
   "id": "accessory-malaysia",
   "metadata": {
    "id": "accessory-malaysia"
   },
   "outputs": [
    {
     "name": "stdout",
     "output_type": "stream",
     "text": [
      "[0 1 2 3 4 5 6]\n"
     ]
    }
   ],
   "source": [
    "# Se imprimen los valores únicos que toma la columna 'order_dow' para validar que correspondan a un día de la semana.\n",
    "data_check_dow = instacart_orders['order_dow'].unique()\n",
    "print(np.sort(data_check_dow))"
   ]
  },
  {
   "cell_type": "markdown",
   "id": "hmR2GNQ6lCsX",
   "metadata": {
    "id": "hmR2GNQ6lCsX"
   },
   "source": [
    "1. Los datos se encuentran dentro del rango de valores esperados."
   ]
  },
  {
   "cell_type": "markdown",
   "id": "a6743a70",
   "metadata": {
    "id": "a6743a70"
   },
   "source": [
    "### [A2] Para cada hora del día, ¿cuántas personas hacen órdenes?"
   ]
  },
  {
   "cell_type": "code",
   "execution_count": 64,
   "id": "a36cca27",
   "metadata": {
    "id": "a36cca27"
   },
   "outputs": [
    {
     "data": {
      "image/png": "[encoded data removed]",
      "text/plain": [
       "<Figure size 1200x1000 with 1 Axes>"
      ]
     },
     "metadata": {},
     "output_type": "display_data"
    }
   ],
   "source": [
    "# Se agrupan los los pedidos por la hora del día en que fue realizado. Y se cuentan para obtener\n",
    "# la cantidad de pedidos por cada hora del día.\n",
    "instacart_order_hod = instacart_orders.groupby('order_hour_of_day')['user_id'].count()\n",
    "\n",
    "# Se imprime en un gráfico de barras la cantidad de pedidos en cada hora del día.\n",
    "instacart_order_hod.plot(\n",
    "    x='order_hour_of_day',\n",
    "    y='user_id',\n",
    "    kind='bar',\n",
    "    title='Número de usuarios según la hora del día',\n",
    "    xlabel='Hora del día',\n",
    "    ylabel=\"Número de pedidos\",\n",
    "    figsize=(12,10),\n",
    "    \n",
    ")\n",
    "plt.show()"
   ]
  },
  {
   "cell_type": "markdown",
   "id": "11270eed",
   "metadata": {
    "id": "11270eed"
   },
   "source": [
    "1. Las horas en que los usuarios hacen mas pedidos es entre las 10:00 hrs y las 16:00 hrs.\n",
    "2. Entra las 23:00 hrs y las 6:00 hrs son las horas menos activas para los usuarios."
   ]
  },
  {
   "cell_type": "markdown",
   "id": "documented-command",
   "metadata": {
    "id": "documented-command"
   },
   "source": [
    "### [A3] ¿Qué día de la semana compran víveres las personas?"
   ]
  },
  {
   "cell_type": "code",
   "execution_count": 65,
   "id": "chief-digit",
   "metadata": {
    "id": "chief-digit"
   },
   "outputs": [
    {
     "data": {
      "image/png": "[encoded data removed]",
      "text/plain": [
       "<Figure size 800x600 with 1 Axes>"
      ]
     },
     "metadata": {},
     "output_type": "display_data"
    }
   ],
   "source": [
    "instacart_order_dow = instacart_orders.groupby('order_dow')['order_id'].count()\n",
    "instacart_order_dow.plot(\n",
    "    x='order_dow',\n",
    "    y='order_id',\n",
    "    kind='bar',\n",
    "    title='Número de pedidos según el día de la semana.',\n",
    "    xlabel='Día de la semana',\n",
    "    ylabel=\"Número de pedidos\",\n",
    "    rot=45,\n",
    "    figsize=(8, 6)\n",
    ")\n",
    "plt.legend(['0 = Domingo'])\n",
    "plt.show()"
   ]
  },
  {
   "cell_type": "markdown",
   "id": "dominant-lightning",
   "metadata": {
    "id": "dominant-lightning"
   },
   "source": [
    "1. Los lunes y los domingos son los días donde los usuarios hace más pedidos.\n",
    "2. Los días restantes de la semana el comportamiento de los usuarios es similar."
   ]
  },
  {
   "cell_type": "markdown",
   "id": "cutting-concert",
   "metadata": {
    "id": "cutting-concert"
   },
   "source": [
    "### [A4] ¿Cuánto tiempo esperan las personas hasta hacer otro pedido? Comenta sobre los valores mínimos y máximos."
   ]
  },
  {
   "cell_type": "code",
   "execution_count": 66,
   "id": "c231f523",
   "metadata": {
    "id": "c231f523"
   },
   "outputs": [
    {
     "data": {
      "image/png": "[encoded data removed]",
      "text/plain": [
       "<Figure size 1000x800 with 1 Axes>"
      ]
     },
     "metadata": {},
     "output_type": "display_data"
    }
   ],
   "source": [
    "instacart_orders['days_since_prior_order'].plot(\n",
    "    title='Días de espera hasta hacer otro pedido ',\n",
    "    kind='hist',\n",
    "    bins=60,\n",
    "    grid=True,\n",
    "    figsize=(10, 8)\n",
    "    \n",
    ")\n",
    "\n",
    "plt.show()\n"
   ]
  },
  {
   "cell_type": "markdown",
   "id": "discrete-vertex",
   "metadata": {
    "id": "discrete-vertex"
   },
   "source": [
    "1. Se realiza un histograma para ver la frecuencia de días que un cliente espera para hacer un segundo pedido.\n",
    "2. Hay una gran cantidad de clientes que apenas realizó su primer pedido. Eso indica el valor 0.\n",
    "3. Mientras que una cantidad considerable de cliente espera hasta 30 días para realizar un segundo pedido."
   ]
  },
  {
   "cell_type": "markdown",
   "id": "tight-staff",
   "metadata": {
    "id": "tight-staff"
   },
   "source": [
    "# [B] Intermedio (deben completarse todos para aprobar)\n",
    "\n",
    "1. ¿Existe alguna diferencia entre las distribuciones `'order_hour_of_day'` de los miércoles y los sábados? Traza gráficos de barra de `'order_hour_of_day'` para ambos días en la misma figura y describe las diferencias que observes.\n",
    "2. Grafica la distribución para el número de órdenes que hacen los clientes (es decir, cuántos clientes hicieron solo 1 pedido, cuántos hicieron 2, cuántos 3, y así sucesivamente...).\n",
    "3. ¿Cuáles son los 20 principales productos que se piden con más frecuencia (muestra su identificación y nombre)?"
   ]
  },
  {
   "cell_type": "markdown",
   "id": "packed-classic",
   "metadata": {
    "id": "packed-classic"
   },
   "source": [
    "### [B1] Diferencia entre miércoles y sábados para  `'order_hour_of_day'`. Traza gráficos de barra para los dos días y describe las diferencias que veas."
   ]
  },
  {
   "cell_type": "code",
   "execution_count": 67,
   "id": "d89b8403",
   "metadata": {
    "id": "d89b8403"
   },
   "outputs": [
    {
     "name": "stdout",
     "output_type": "stream",
     "text": [
      "    order_id  user_id  order_number  order_dow  order_hour_of_day  \\\n",
      "0    1515936   183418            11          6                 13   \n",
      "11    102585   191558            18          6                 16   \n",
      "14   2843219    74699             4          6                 11   \n",
      "20     50934   178510             9          6                  9   \n",
      "26   1844247   122558             4          6                 18   \n",
      "\n",
      "    days_since_prior_order  \n",
      "0                       30  \n",
      "11                       8  \n",
      "14                      30  \n",
      "20                       5  \n",
      "26                      30  \n"
     ]
    }
   ],
   "source": [
    "# Se filtra el dataset 'instacart_orders' para obtener todos los pedidos que se realizan el día sábado\n",
    "orders_sat = instacart_orders[instacart_orders['order_dow'] == 6]\n",
    "print(orders_sat.head(5))"
   ]
  },
  {
   "cell_type": "code",
   "execution_count": 68,
   "id": "94e54e8a",
   "metadata": {
    "id": "94e54e8a"
   },
   "outputs": [
    {
     "name": "stdout",
     "output_type": "stream",
     "text": [
      "    order_id  user_id  order_number  order_dow  order_hour_of_day  \\\n",
      "6    2511640   148233            40          3                  8   \n",
      "16   3109465    55090            19          3                 15   \n",
      "28    133707   182261             1          3                 10   \n",
      "30   1890318   193501             3          3                 15   \n",
      "35    125325   106853             6          3                 19   \n",
      "\n",
      "    days_since_prior_order  \n",
      "6                        2  \n",
      "16                       9  \n",
      "28                       0  \n",
      "30                      30  \n",
      "35                      30  \n"
     ]
    }
   ],
   "source": [
    "# Se filtra el dataset 'instacart_orders' para obtener todos los pedidos que se realizan el día miércoles\n",
    "orders_wed = instacart_orders[instacart_orders['order_dow'] == 3]\n",
    "print(orders_wed.head(5))"
   ]
  },
  {
   "cell_type": "code",
   "execution_count": 69,
   "id": "797c90a8",
   "metadata": {
    "id": "797c90a8"
   },
   "outputs": [
    {
     "data": {
      "image/png": "[encoded data removed]",
      "text/plain": [
       "<Figure size 1000x800 with 1 Axes>"
      ]
     },
     "metadata": {},
     "output_type": "display_data"
    }
   ],
   "source": [
    "# Después de filtrados los pedidos par cada día, se generan histogramas para obtener la frecuencia\n",
    "# de los horarios de los pedidos. Se genra un histograma para cada dataset y se grafican en la misma figura\n",
    "# para poder compararlos\n",
    "\n",
    "orders_sat['order_hour_of_day'].plot(\n",
    "    kind='hist',\n",
    "    bins=50,\n",
    "    title='Distribución horaria de los pedidos días Sábados y Miércoles',\n",
    "    xlabel='Hora del día',\n",
    "    ylabel='Frequency',\n",
    "    figsize=(10, 8)\n",
    "\n",
    ")\n",
    "\n",
    "orders_wed['order_hour_of_day'].plot(\n",
    "    kind='hist',\n",
    "    bins=50,\n",
    "    alpha=0.6\n",
    ")\n",
    "\n",
    "plt.legend(['Sábados', 'Miércoles'])\n",
    "plt.show()"
   ]
  },
  {
   "cell_type": "code",
   "execution_count": null,
   "id": "35bcea30",
   "metadata": {
    "id": "35bcea30"
   },
   "outputs": [],
   "source": []
  },
  {
   "cell_type": "markdown",
   "id": "charitable-congo",
   "metadata": {
    "id": "charitable-congo"
   },
   "source": [
    "1. Los dias sábados entre las 11:00 hrs y las 15:00 hrs se realizan más pedidos que los días miércoles. Y en las horas de la noche y la madrugada.\n",
    "2. Los miércoles entre las 09:00 hrs y las 10:00 hrs, y entre las 18:00 hrs y las 20:00 hrs los usuarios son más activos que los días sábados.\n",
    "3. En general el comportamiento de los clientes es similar sea Sábado o Miércoles, ya que las distribuciones son similares."
   ]
  },
  {
   "cell_type": "markdown",
   "id": "e3891143",
   "metadata": {
    "id": "e3891143"
   },
   "source": [
    "### [B2] ¿Cuál es la distribución para el número de pedidos por cliente?"
   ]
  },
  {
   "cell_type": "code",
   "execution_count": 70,
   "id": "d8c26c23",
   "metadata": {
    "id": "d8c26c23"
   },
   "outputs": [
    {
     "name": "stdout",
     "output_type": "stream",
     "text": [
      "user_id\n",
      "2         2\n",
      "4         2\n",
      "5         1\n",
      "6         2\n",
      "7         2\n",
      "         ..\n",
      "206203    1\n",
      "206206    7\n",
      "206207    5\n",
      "206208    9\n",
      "206209    2\n",
      "Name: order_number, Length: 157437, dtype: int64\n"
     ]
    }
   ],
   "source": [
    "# Se filtra el dataset para agurapar los usuarios por 'user_id' y se cuenta la cantidad de 'order_number'\n",
    "# para cada usuario\n",
    "users_distribution = instacart_orders.groupby('user_id')['order_number'].count()\n",
    "print(users_distribution)"
   ]
  },
  {
   "cell_type": "code",
   "execution_count": 71,
   "id": "00e69a66",
   "metadata": {
    "id": "00e69a66"
   },
   "outputs": [
    {
     "data": {
      "image/png": "[encoded data removed]",
      "text/plain": [
       "<Figure size 2000x2200 with 1 Axes>"
      ]
     },
     "metadata": {},
     "output_type": "display_data"
    }
   ],
   "source": [
    "# Se grafica el dataset obtenido en el paso anterior, paa obtener la distribución del número de pedidos\n",
    "# por cada usuario\n",
    "users_distribution.plot(\n",
    "    kind='hist',\n",
    "    bins=50,\n",
    "    title='Distribución del número de pedidos por usuario',\n",
    "    xlabel='Número de usuarios',\n",
    "    figsize=(20, 22),\n",
    "    xlim=(1, 29)\n",
    "    )\n",
    "plt.show()"
   ]
  },
  {
   "cell_type": "markdown",
   "id": "d2eff7d5",
   "metadata": {
    "id": "d2eff7d5"
   },
   "source": [
    "1. La mayoría de usuarios ha realiza entre 1 y 3 pedidos.\n",
    "2. Pocos usuarios realizan mas de 10 pedidos."
   ]
  },
  {
   "cell_type": "markdown",
   "id": "54a0319c",
   "metadata": {
    "id": "54a0319c"
   },
   "source": [
    "### [B3] ¿Cuáles son los 20 productos más populares (muestra su ID y nombre)?"
   ]
  },
  {
   "cell_type": "code",
   "execution_count": 72,
   "id": "exterior-arizona",
   "metadata": {
    "id": "exterior-arizona"
   },
   "outputs": [
    {
     "name": "stdout",
     "output_type": "stream",
     "text": [
      "-- Listado de productos y sus respectivos ID: \n",
      "   product_id                                 product_name_upper\n",
      "0           1                         CHOCOLATE SANDWICH COOKIES\n",
      "1           2                                   ALL-SEASONS SALT\n",
      "2           3               ROBUST GOLDEN UNSWEETENED OOLONG TEA\n",
      "3           4  SMART ONES CLASSIC FAVORITES MINI RIGATONI WIT...\n",
      "4           5                          GREEN CHILE ANYTIME SAUCE\n"
     ]
    }
   ],
   "source": [
    "# Se filtra el dataset 'products' para obtener los datos de las columnas 'product_id' y 'product_name_upper'\n",
    "products_name_id = products[['product_id', 'product_name_upper']]\n",
    "print(f\"-- Listado de productos y sus respectivos ID: \\n{products_name_id.head(5)}\")"
   ]
  },
  {
   "cell_type": "code",
   "execution_count": 73,
   "id": "universal-facial",
   "metadata": {
    "id": "universal-facial"
   },
   "outputs": [
    {
     "name": "stdout",
     "output_type": "stream",
     "text": [
      "-- Lista de órdenes e identificador de productos: \n",
      "   order_id  product_id\n",
      "0   2141543       11440\n",
      "1    567889        1560\n",
      "2   2261212       26683\n",
      "3    491251        8670\n",
      "4   2571142        1940\n"
     ]
    }
   ],
   "source": [
    "# Se filtra el dataset 'orders_products' para obtener los datos de las columnas 'order_id' y 'product_id'\n",
    "order_product_id = orders_products[['order_id', 'product_id']]\n",
    "print(f\"-- Lista de órdenes e identificador de productos: \\n{order_product_id.head(5)}\")"
   ]
  },
  {
   "cell_type": "code",
   "execution_count": 74,
   "id": "bbcdd20b",
   "metadata": {
    "id": "bbcdd20b"
   },
   "outputs": [
    {
     "name": "stdout",
     "output_type": "stream",
     "text": [
      "-- Lista de órdenes y productos: \n",
      "   product_id          product_name_upper  order_id\n",
      "0           1  CHOCOLATE SANDWICH COOKIES   1104373\n",
      "1           1  CHOCOLATE SANDWICH COOKIES   1774977\n",
      "2           1  CHOCOLATE SANDWICH COOKIES    652770\n",
      "3           1  CHOCOLATE SANDWICH COOKIES   1000035\n",
      "4           1  CHOCOLATE SANDWICH COOKIES   1679949\n",
      "\n",
      "-- Top 20 de los productos más pedidos: \n",
      "product_name_upper        product_id\n",
      "BANANA                    24852         66050\n",
      "BAG OF ORGANIC BANANAS    13176         53297\n",
      "ORGANIC STRAWBERRIES      21137         37039\n",
      "ORGANIC BABY SPINACH      21903         33971\n",
      "ORGANIC HASS AVOCADO      47209         29773\n",
      "ORGANIC AVOCADO           47766         24689\n",
      "LARGE LEMON               47626         21495\n",
      "STRAWBERRIES              16797         20018\n",
      "LIMES                     26209         19690\n",
      "ORGANIC WHOLE MILK        27845         19600\n",
      "ORGANIC RASPBERRIES       27966         19197\n",
      "ORGANIC YELLOW ONION      22935         15898\n",
      "ORGANIC GARLIC            24964         15292\n",
      "ORGANIC ZUCCHINI          45007         14584\n",
      "ORGANIC BLUEBERRIES       39275         13879\n",
      "CUCUMBER KIRBY            49683         13675\n",
      "ORGANIC FUJI APPLE        28204         12544\n",
      "ORGANIC LEMON             5876          12232\n",
      "APPLE HONEYCRISP ORGANIC  8277          11993\n",
      "ORGANIC GRAPE TOMATOES    40706         11781\n",
      "Name: order_id, dtype: int64\n"
     ]
    }
   ],
   "source": [
    "# Con los dos datasets obtenidos en los paso anteriores se hace un merge entre ellos utilizando\n",
    "# como clave la columna 'product_id'. El nuevo dataset tiene los datos de 'product_id', \n",
    "# 'product_name_upper' y 'order_id'\n",
    "order_product_id_name = products_name_id.merge(order_product_id, on='product_id')\n",
    "print(f\"-- Lista de órdenes y productos: \\n{order_product_id_name.head(5)}\")\n",
    "print()\n",
    "top_20_products = order_product_id_name.groupby(by=['product_name_upper','product_id'])['order_id'].count().sort_values(ascending=False)\n",
    "print(f\"-- Top 20 de los productos más pedidos: \\n{top_20_products.head(20)}\")\n"
   ]
  },
  {
   "cell_type": "markdown",
   "id": "7df00f47",
   "metadata": {
    "id": "7df00f47"
   },
   "source": [
    "1. Encontramos muchas frutas y vegetales entre los productos más pedidos.\n",
    "2. También son de gran demanda los productos de origen orgánico."
   ]
  },
  {
   "cell_type": "markdown",
   "id": "gross-theme",
   "metadata": {
    "id": "gross-theme"
   },
   "source": [
    "# [C] Difícil (deben completarse todos para aprobar)\n",
    "\n",
    "1. ¿Cuántos artículos suelen comprar las personas en un pedido? ¿Cómo es la distribución?\n",
    "2. ¿Cuáles son los 20 principales artículos que vuelven a pedirse con mayor frecuencia (muestra sus nombres e IDs de los productos)?\n",
    "3. Para cada producto, ¿cuál es la tasa de repetición del pedido (número de repeticiones de pedido/total de pedidos?\n",
    "4. Para cada cliente, ¿qué proporción de los productos que pidió ya los había pedido? Calcula la tasa de repetición de pedido para cada usuario en lugar de para cada producto.\n",
    "5. ¿Cuáles son los 20 principales artículos que la gente pone primero en sus carritos (muestra las IDs de los productos, sus nombres, y el número de veces en que fueron el primer artículo en añadirse al carrito)?"
   ]
  },
  {
   "cell_type": "markdown",
   "id": "romantic-deposit",
   "metadata": {
    "id": "romantic-deposit"
   },
   "source": [
    "### [C1] ¿Cuántos artículos compran normalmente las personas en un pedido? ¿Cómo es la distribución?"
   ]
  },
  {
   "cell_type": "code",
   "execution_count": 75,
   "id": "virtual-punch",
   "metadata": {
    "id": "virtual-punch"
   },
   "outputs": [
    {
     "name": "stdout",
     "output_type": "stream",
     "text": [
      "-- Listado de usuarios y órdenes: \n",
      "   user_id  order_id\n",
      "0   183418   1515936\n",
      "1   163593   1690866\n",
      "2    39980   1454967\n",
      "3    82516   1768857\n",
      "4   196724   3007858\n"
     ]
    }
   ],
   "source": [
    "# Se filtran las columnas 'user_id' y order_id del dataset 'instacart_orders'\n",
    "order_user_id = instacart_orders[['user_id', 'order_id']]\n",
    "print(f\"-- Listado de usuarios y órdenes: \\n{order_user_id.head(5)}\")"
   ]
  },
  {
   "cell_type": "code",
   "execution_count": 76,
   "id": "sensitive-breathing",
   "metadata": {
    "id": "sensitive-breathing"
   },
   "outputs": [
    {
     "name": "stdout",
     "output_type": "stream",
     "text": [
      "-- Listado de órdenes e identificador de productos: \n",
      "   order_id  product_id\n",
      "0   2141543       11440\n",
      "1    567889        1560\n",
      "2   2261212       26683\n",
      "3    491251        8670\n",
      "4   2571142        1940\n"
     ]
    }
   ],
   "source": [
    "# Se filtran las columnas 'order_id' y 'product_id' del dataset 'orders_products'\n",
    "order_product_id = orders_products[['order_id', 'product_id']]\n",
    "print(f\"-- Listado de órdenes e identificador de productos: \\n{order_product_id.head(5)}\")"
   ]
  },
  {
   "cell_type": "code",
   "execution_count": 77,
   "id": "9a5e5ee5",
   "metadata": {
    "id": "completed-frank"
   },
   "outputs": [
    {
     "name": "stdout",
     "output_type": "stream",
     "text": [
      "-- Listado de usuarios, órdenes y productos: \n",
      "         user_id  order_id  product_id\n",
      "0         183418   1515936       19048\n",
      "1         183418   1515936       47766\n",
      "2         183418   1515936       45066\n",
      "3         183418   1515936       24082\n",
      "4         183418   1515936       24363\n",
      "...          ...       ...         ...\n",
      "4545002     1730   2071924        1503\n",
      "4545003     1730   2071924        4778\n",
      "4545004     1730   2071924       11512\n",
      "4545005     1730   2071924        4920\n",
      "4545006     1730   2071924       17678\n",
      "\n",
      "[4545007 rows x 3 columns]\n",
      "\n",
      "-- Cantidad de productos por usuario: \n",
      "user_id\n",
      "2     26\n",
      "4      2\n",
      "5     12\n",
      "6      4\n",
      "7     14\n",
      "11    15\n",
      "12    12\n",
      "13    23\n",
      "14    61\n",
      "15    13\n",
      "Name: product_id, dtype: int64\n"
     ]
    },
    {
     "data": {
      "image/png": "[encoded data removed]",
      "text/plain": [
       "<Figure size 2000x2200 with 1 Axes>"
      ]
     },
     "metadata": {},
     "output_type": "display_data"
    }
   ],
   "source": [
    "#### Se fusionan las dos tablas obtenidas en los pasos anteriores\n",
    "merge_user_order_product = order_user_id.merge(order_product_id, on='order_id')\n",
    "print(f\"-- Listado de usuarios, órdenes y productos: \\n{merge_user_order_product}\")\n",
    "print()\n",
    "# Se agrupan los datos por usuarios y se realiza la cuenta de productos para obtner la cantidad\n",
    "# productos comprada por cada usuario\n",
    "group = merge_user_order_product.groupby('user_id')['product_id'].count()\n",
    "print(f\"-- Cantidad de productos por usuario: \\n{group.head(10)}\")\n",
    "\n",
    "# Se realiza un histograma de las cantidades de los productos por usuario\n",
    "group.plot(\n",
    "    kind='hist',\n",
    "    bins=200,\n",
    "    title='Distribución del número de productos pedidos por usuario',\n",
    "    xlabel='Número de productos',\n",
    "    figsize=(20, 22),\n",
    "    xlim=(0, 200)\n",
    "    )\n",
    "plt.show()"
   ]
  },
  {
   "cell_type": "markdown",
   "id": "designed-mortality",
   "metadata": {
    "id": "designed-mortality"
   },
   "source": [
    "1. Este gráfico indica que la mayoría de usuarios compra menos de 25 productos.\n",
    "2. La distribución de los datos indica que hay una dispersión entre las costumbres de consumo de los cientes.\n",
    "3. Para efectos de una mejor visualización de la gráfica se ha establecido un límite de 200 productos en el eje x. "
   ]
  },
  {
   "cell_type": "markdown",
   "id": "5e6b5537",
   "metadata": {
    "id": "5e6b5537"
   },
   "source": [
    "### [C2] ¿Cuáles son los 20 principales artículos que vuelven a pedirse con mayor frecuencia (muestra sus nombres e IDs de los productos)?"
   ]
  },
  {
   "cell_type": "code",
   "execution_count": 78,
   "id": "9374e55a",
   "metadata": {
    "id": "9374e55a"
   },
   "outputs": [
    {
     "name": "stdout",
     "output_type": "stream",
     "text": [
      "-- Listado de productos: \n",
      "   order_id  product_id  reordered\n",
      "0   2141543       11440          0\n",
      "1    567889        1560          1\n",
      "2   2261212       26683          1\n",
      "3    491251        8670          1\n",
      "4   2571142        1940          1\n",
      "\n",
      "-- Listado de productos repedidos: \n",
      "   order_id  product_id  reordered\n",
      "1    567889        1560          1\n",
      "2   2261212       26683          1\n",
      "3    491251        8670          1\n",
      "4   2571142        1940          1\n",
      "5   2456893       21616          1\n"
     ]
    }
   ],
   "source": [
    "# Se filtra la tabla 'orders_products' para obtener información sobre el ID de los productos y si han sido \n",
    "# repedidos o no.\n",
    "ordered_products = orders_products[['order_id', 'product_id', 'reordered']]\n",
    "print(f\"-- Listado de productos: \\n{ordered_products.head(5)}\")\n",
    "print()\n",
    "\n",
    "# La tabla anterior se vuelve a filtrar para obtener el listado de órdenes y productos que se han pedido \n",
    "# antes por un cliente.\n",
    "reordered_products = ordered_products[ordered_products['reordered'] == 1]\n",
    "print(f\"-- Listado de productos repedidos: \\n{reordered_products.head(5)}\")"
   ]
  },
  {
   "cell_type": "code",
   "execution_count": 79,
   "id": "possible-change",
   "metadata": {
    "id": "possible-change",
    "scrolled": true
   },
   "outputs": [
    {
     "name": "stdout",
     "output_type": "stream",
     "text": [
      "-- Listado de IDs de productos y sus nombres: \n",
      "   product_id                                 product_name_upper\n",
      "0           1                         CHOCOLATE SANDWICH COOKIES\n",
      "1           2                                   ALL-SEASONS SALT\n",
      "2           3               ROBUST GOLDEN UNSWEETENED OOLONG TEA\n",
      "3           4  SMART ONES CLASSIC FAVORITES MINI RIGATONI WIT...\n",
      "4           5                          GREEN CHILE ANYTIME SAUCE\n"
     ]
    }
   ],
   "source": [
    "# Se filtra la tabla 'products' para obtener información sobre el ID de los productos y su nombre en mayúscula\n",
    "# para obtener así nombres únicos.\n",
    "products_name = products[['product_id', 'product_name_upper']]\n",
    "print(f\"-- Listado de IDs de productos y sus nombres: \\n{products_name.head(5)}\")"
   ]
  },
  {
   "cell_type": "code",
   "execution_count": 80,
   "id": "professional-surfing",
   "metadata": {
    "id": "professional-surfing"
   },
   "outputs": [
    {
     "name": "stdout",
     "output_type": "stream",
     "text": [
      "-- Listado de IDs y de nombres de productos repedidos: \n",
      "    order_id  product_id  reordered product_name_upper\n",
      "0    567889        1560          1         BAG OF ICE\n",
      "1    761899        1560          1         BAG OF ICE\n",
      "2   1388514        1560          1         BAG OF ICE\n",
      "3   2629631        1560          1         BAG OF ICE\n",
      "4    866921        1560          1         BAG OF ICE\n"
     ]
    }
   ],
   "source": [
    "# Se fusionan las dos datasets obtenidos en los pasos anteriores, para crear una lista de los nombres de los\n",
    "# productos, de sus IDs, y si han sido repedidos.\n",
    "reordered_products_id_name = reordered_products.merge(products_name, on='product_id')\n",
    "print(f\"-- Listado de IDs y de nombres de productos repedidos: \\n {reordered_products_id_name.head(5)}\")"
   ]
  },
  {
   "cell_type": "code",
   "execution_count": 81,
   "id": "48dd3658",
   "metadata": {
    "id": "48dd3658"
   },
   "outputs": [
    {
     "name": "stdout",
     "output_type": "stream",
     "text": [
      "-- Top 20 de los productos que más repiten los clientes: \n",
      "product_name_upper        product_id\n",
      "BANANA                    24852         55763\n",
      "BAG OF ORGANIC BANANAS    13176         44450\n",
      "ORGANIC STRAWBERRIES      21137         28639\n",
      "ORGANIC BABY SPINACH      21903         26233\n",
      "ORGANIC HASS AVOCADO      47209         23629\n",
      "ORGANIC AVOCADO           47766         18743\n",
      "ORGANIC WHOLE MILK        27845         16251\n",
      "LARGE LEMON               47626         15044\n",
      "ORGANIC RASPBERRIES       27966         14748\n",
      "STRAWBERRIES              16797         13945\n",
      "LIMES                     26209         13327\n",
      "ORGANIC YELLOW ONION      22935         11145\n",
      "ORGANIC GARLIC            24964         10411\n",
      "ORGANIC ZUCCHINI          45007         10076\n",
      "CUCUMBER KIRBY            49683          9538\n",
      "ORGANIC FUJI APPLE        28204          8989\n",
      "APPLE HONEYCRISP ORGANIC  8277           8836\n",
      "ORGANIC BLUEBERRIES       39275          8799\n",
      "ORGANIC LEMON             5876           8412\n",
      "ORGANIC HALF & HALF       49235          8389\n",
      "Name: order_id, dtype: int64\n"
     ]
    }
   ],
   "source": [
    "# Se agrupa la tabla fusionada por nombre de producto y ID de producto y se cuentan los pedidos para obtener\n",
    "# el total de veces que fue pedido dicho producto. Luego se muestran las primeras 20 filas.\n",
    "top_20_products_reordered = reordered_products_id_name.groupby(by=['product_name_upper','product_id'])['order_id'].count().sort_values(ascending=False)\n",
    "print(f\"-- Top 20 de los productos que más repiten los clientes: \\n{top_20_products_reordered.head(20)}\")"
   ]
  },
  {
   "cell_type": "markdown",
   "id": "80e70c74",
   "metadata": {
    "id": "80e70c74"
   },
   "source": [
    "1. Si comparamos este resultado con el obtenido al calcular el top 20 de los productos más vendidos *(ver punto 7.9[C2])* se observa que los mismos productos se mantienen.\n",
    "2. Excpeto por los ORGANIC GRAPE TOMATOES, este producto sale del top 20 de los productos que más repiten los clientes, sería bueno investigar por qué los clientes no lo vuelven a pedir con la misma frecuencia."
   ]
  },
  {
   "cell_type": "markdown",
   "id": "9d312b14",
   "metadata": {
    "id": "9d312b14"
   },
   "source": [
    "### [C3] Para cada producto, ¿cuál es la proporción de las veces que se pide y que se vuelve a pedir?"
   ]
  },
  {
   "cell_type": "code",
   "execution_count": 82,
   "id": "8ae9f4b1",
   "metadata": {
    "id": "8ae9f4b1"
   },
   "outputs": [
    {
     "name": "stdout",
     "output_type": "stream",
     "text": [
      "-- Lista de órdenes e identificador de productos: \n",
      "   order_id  product_id  reordered\n",
      "0   2141543       11440          0\n",
      "1    567889        1560          1\n",
      "2   2261212       26683          1\n",
      "3    491251        8670          1\n",
      "4   2571142        1940          1\n",
      "\n",
      "-- Listado de IDs y de nombres de productos: \n",
      "    order_id  product_id  reordered              product_name_upper\n",
      "0   2141543       11440          0  CHICKEN BREAST TENDERS BREADED\n",
      "1    147172       11440          1  CHICKEN BREAST TENDERS BREADED\n",
      "2   3341719       11440          1  CHICKEN BREAST TENDERS BREADED\n",
      "3   1938779       11440          1  CHICKEN BREAST TENDERS BREADED\n",
      "4   1728338       11440          0  CHICKEN BREAST TENDERS BREADED\n"
     ]
    }
   ],
   "source": [
    "# Se filtra el dataset 'orders_products' para obtener los datos de las columnas 'order_id' y 'product_id'\n",
    "# y la información de si el prodcuto fue repedido o no\n",
    "reorder_products = orders_products[['order_id', 'product_id', 'reordered']]\n",
    "print(f\"-- Lista de órdenes e identificador de productos: \\n{reorder_products.head()}\")\n",
    "print()\n",
    "# Se fusionan las dos datasets 'reorder_products' y 'products_name' obtenidos en los pasos anteriores, para crear una lista de los nombres de los\n",
    "# productos, de sus IDs, y si han sido repedidos o no.\n",
    "list_product_names_order = reorder_products.merge(products_name)\n",
    "print(f\"-- Listado de IDs y de nombres de productos: \\n {list_product_names_order.head()}\")\n"
   ]
  },
  {
   "cell_type": "code",
   "execution_count": 83,
   "id": "103e7fe1",
   "metadata": {
    "id": "103e7fe1"
   },
   "outputs": [
    {
     "name": "stdout",
     "output_type": "stream",
     "text": [
      "-- Pedidos totales por producto: \n",
      "                                   order_id\n",
      "product_name_upper     product_id          \n",
      "BANANA                 24852          66050\n",
      "BAG OF ORGANIC BANANAS 13176          53297\n",
      "ORGANIC STRAWBERRIES   21137          37039\n",
      "ORGANIC BABY SPINACH   21903          33971\n",
      "ORGANIC HASS AVOCADO   47209          29773\n",
      "\n",
      "-- Cantidad de productos ordenados por primera vez: \n",
      "                                   order_id\n",
      "product_name_upper     product_id          \n",
      "BANANA                 24852          10287\n",
      "BAG OF ORGANIC BANANAS 13176           8847\n",
      "ORGANIC STRAWBERRIES   21137           8400\n",
      "ORGANIC BABY SPINACH   21903           7738\n",
      "LARGE LEMON            47626           6451\n",
      "\n",
      "-- Cantidad de productos reordenados: \n",
      "                                   order_id\n",
      "product_name_upper     product_id          \n",
      "BANANA                 24852          55763\n",
      "BAG OF ORGANIC BANANAS 13176          44450\n",
      "ORGANIC STRAWBERRIES   21137          28639\n",
      "ORGANIC BABY SPINACH   21903          26233\n",
      "ORGANIC HASS AVOCADO   47209          23629\n"
     ]
    }
   ],
   "source": [
    "# Con la ayuda de los métodos groupby() y aggregate() se obtiena la cuenta de pedidos totales por productos\n",
    "# ('total_count_order')\n",
    "# la cuenta de pedidos de productos ordenados por primera vez ('first_time_order')\n",
    "# la cuenta de pedidos de productos que fueron reordenados ('reordered_products')\n",
    "\n",
    "func_dict = {'order_id':'count'}\n",
    "total_count_order = list_product_names_order.groupby(by=['product_name_upper','product_id']).aggregate(func_dict).sort_values(by='order_id', ascending=False)\n",
    "print(f\"-- Pedidos totales por producto: \\n{total_count_order.head()}\")\n",
    "print()\n",
    "\n",
    "q_string_first = \"reordered == 0\"\n",
    "first_time_order = list_product_names_order.query(q_string_first).groupby(by=['product_name_upper','product_id']).aggregate(func_dict).sort_values(by='order_id', ascending=False)\n",
    "print(f\"-- Cantidad de productos ordenados por primera vez: \\n{first_time_order.head()}\")\n",
    "print()\n",
    "\n",
    "q_string_reordered = \"reordered == 1\"\n",
    "reordered_products = list_product_names_order.query(q_string_reordered).groupby(by=['product_name_upper','product_id']).aggregate(func_dict).sort_values(by='order_id', ascending=False)\n",
    "print(f\"-- Cantidad de productos reordenados: \\n{reordered_products.head()}\")\n"
   ]
  },
  {
   "cell_type": "code",
   "execution_count": 84,
   "id": "social-individual",
   "metadata": {
    "id": "social-individual"
   },
   "outputs": [
    {
     "name": "stdout",
     "output_type": "stream",
     "text": [
      "                                                          proportion_first  \\\n",
      "product_name_upper                            product_id                     \n",
      "BANANA                                        24852               0.155746   \n",
      "BAG OF ORGANIC BANANAS                        13176               0.165994   \n",
      "ORGANIC STRAWBERRIES                          21137               0.226788   \n",
      "ORGANIC BABY SPINACH                          21903               0.227783   \n",
      "ORGANIC HASS AVOCADO                          47209               0.206361   \n",
      "...                                                                    ...   \n",
      "VITAMIN E LOTION                              13556               0.500000   \n",
      "SOFT WHITE 30/70/100 WATTS 3 WAY LIGHT BULBS  23770               0.500000   \n",
      "VITAMIN CODE RAW PRENATAL VEGETARIAN CAPSULES 23877               0.500000   \n",
      "HAPPY HIPS LAMB STRIPS                        44194               0.500000   \n",
      "CLASSIC CRUST SAUSAGE PIZZA                   38401               0.500000   \n",
      "\n",
      "                                                          proportion_reodered  \n",
      "product_name_upper                            product_id                       \n",
      "BANANA                                        24852                  0.844254  \n",
      "BAG OF ORGANIC BANANAS                        13176                  0.834006  \n",
      "ORGANIC STRAWBERRIES                          21137                  0.773212  \n",
      "ORGANIC BABY SPINACH                          21903                  0.772217  \n",
      "ORGANIC HASS AVOCADO                          47209                  0.793639  \n",
      "...                                                                       ...  \n",
      "VITAMIN E LOTION                              13556                  0.500000  \n",
      "SOFT WHITE 30/70/100 WATTS 3 WAY LIGHT BULBS  23770                  0.500000  \n",
      "VITAMIN CODE RAW PRENATAL VEGETARIAN CAPSULES 23877                  0.500000  \n",
      "HAPPY HIPS LAMB STRIPS                        44194                  0.500000  \n",
      "CLASSIC CRUST SAUSAGE PIZZA                   38401                  0.500000  \n",
      "\n",
      "[33907 rows x 2 columns]\n"
     ]
    }
   ],
   "source": [
    "# Los tres datasets obtenidos en el paso anterior se fusionan para obtener una tabla con los valores\n",
    "# de las cantidades de pedidos por producto, y cuantas veces dicho producto fue pedido por primera vez\n",
    "# y cuantas veces fue repedido.\n",
    "\n",
    "df_merged = pd.merge(pd.merge(total_count_order,first_time_order,on=['product_name_upper', 'product_id'],suffixes=['_count_total', '_count_first']),reordered_products,on=['product_name_upper', 'product_id'])\n",
    "\n",
    "# Se calcula la proporción de cuantas veces un pedido fue solicitado por primera vez\n",
    "df_merged['proportion_first'] = df_merged['order_id_count_first'] / df_merged['order_id_count_total']\n",
    "\n",
    "# Se calcula la proporción de cuantas veces un pedido fue reordenado\n",
    "df_merged['proportion_reodered'] = df_merged['order_id'] / df_merged['order_id_count_total']\n",
    "\n",
    "# Se imprimen los resultados\n",
    "\n",
    "print(df_merged.loc[:,['proportion_first', 'proportion_reodered']])\n"
   ]
  },
  {
   "cell_type": "markdown",
   "id": "I10dEIAyldcO",
   "metadata": {
    "id": "I10dEIAyldcO"
   },
   "source": [
    "1. Los productos orgánicos tienen gran acogida entre los clientes. Muchos se vuelven a pedir en gran proporción."
   ]
  },
  {
   "cell_type": "markdown",
   "id": "subject-boxing",
   "metadata": {
    "id": "subject-boxing"
   },
   "source": [
    "### [C4] Para cada cliente, ¿qué proporción de sus productos ya los había pedido?"
   ]
  },
  {
   "cell_type": "code",
   "execution_count": 85,
   "id": "medical-couple",
   "metadata": {
    "id": "medical-couple"
   },
   "outputs": [
    {
     "name": "stdout",
     "output_type": "stream",
     "text": [
      "-- Listado de IDs de usuarios y IDs de órdenes: \n",
      "   user_id  order_id\n",
      "0   183418   1515936\n",
      "1   163593   1690866\n",
      "2    39980   1454967\n",
      "3    82516   1768857\n",
      "4   196724   3007858\n",
      "\n",
      "-- Listado de productos: \n",
      "   order_id  product_id  reordered              product_name_upper\n",
      "0   2141543       11440          0  CHICKEN BREAST TENDERS BREADED\n",
      "1    147172       11440          1  CHICKEN BREAST TENDERS BREADED\n",
      "2   3341719       11440          1  CHICKEN BREAST TENDERS BREADED\n",
      "3   1938779       11440          1  CHICKEN BREAST TENDERS BREADED\n",
      "4   1728338       11440          0  CHICKEN BREAST TENDERS BREADED\n",
      "\n",
      "-- Listado de usuarios y productos pedidos: \n",
      "   user_id  order_id  product_id  reordered           product_name_upper\n",
      "0   183418   1515936       21903          1         ORGANIC BABY SPINACH\n",
      "1   183418   1515936       47766          1              ORGANIC AVOCADO\n",
      "2   183418   1515936       24852          1                       BANANA\n",
      "3   183418   1515936       22035          0  ORGANIC WHOLE STRING CHEESE\n",
      "4   183418   1515936       45066          0             HONEYCRISP APPLE\n",
      "\n",
      "-- Cantidad de productos pedidos por usuario: \n",
      "         product_id\n",
      "user_id            \n",
      "2                26\n",
      "4                 2\n",
      "5                12\n",
      "6                 4\n",
      "7                14\n",
      "\n",
      "-- Listado de usuario y productos repedidos: \n",
      "   user_id  order_id  product_id  reordered        product_name_upper\n",
      "0   183418   1515936       21903          1      ORGANIC BABY SPINACH\n",
      "1   183418   1515936       47766          1           ORGANIC AVOCADO\n",
      "2   183418   1515936       24852          1                    BANANA\n",
      "5   183418   1515936       19048          1  ORGANIC BUTTERNUT SQUASH\n",
      "8   183418   1515936       28553          1        WHOLE STRAWBERRIES\n",
      "\n",
      "-- Cantidad de productos reordenados por cada usuario: \n",
      "         product_id\n",
      "user_id            \n",
      "2                 1\n",
      "5                 8\n",
      "7                13\n",
      "11                3\n",
      "12                3\n",
      "13               13\n",
      "14               22\n",
      "15                7\n",
      "16               17\n",
      "17               38\n"
     ]
    }
   ],
   "source": [
    "# Se utilizan variables ya creadas para obtner información de los ID de usuarios y del listado de productos \n",
    "# y si han sido repediso o no.\n",
    "print(f\"-- Listado de IDs de usuarios y IDs de órdenes: \\n{order_user_id.head()}\")\n",
    "print()\n",
    "print(f\"-- Listado de productos: \\n{list_product_names_order.head()}\")\n",
    "print()\n",
    "func_agg = {'product_id':'count'}  # Función de agregación para contar los productos.\n",
    "\n",
    "# Se fusionan los dos dataset para obtner un solo dataset con el 'user_id' y la información de cada producto\n",
    "# pedido\n",
    "user_order_id = order_user_id.merge(list_product_names_order, on='order_id')\n",
    "print(f\"-- Listado de usuarios y productos pedidos: \\n{user_order_id.head()}\")\n",
    "print()\n",
    "\n",
    "# Luego se calcula la cantidad de producto pedidos por usuario\n",
    "total_products_users = user_order_id.groupby(by=['user_id']).aggregate(func_agg)\n",
    "print(f\"-- Cantidad de productos pedidos por usuario: \\n{total_products_users.head()}\")\n",
    "print()\n",
    "\n",
    "# Se filtra la cantidad de pedidos que han sido repedidos\n",
    "user_reordered_id = user_order_id[user_order_id['reordered'] == 1]\n",
    "print(f\"-- Listado de usuario y productos repedidos: \\n{user_reordered_id.head()}\")\n",
    "print()\n",
    "\n",
    "# Se calcula la cantidad de productos repedido por cada usuario\n",
    "reordered_products_user = user_reordered_id.groupby(by=['user_id']).aggregate(func_agg)\n",
    "print(f\"-- Cantidad de productos reordenados por cada usuario: \\n{reordered_products_user.head(10)}\")"
   ]
  },
  {
   "cell_type": "code",
   "execution_count": 86,
   "id": "8892e4b4",
   "metadata": {
    "id": "8892e4b4"
   },
   "outputs": [
    {
     "name": "stdout",
     "output_type": "stream",
     "text": [
      "-- Cantidad de productos pedidos totales y repedidos por usuario: \n",
      "         product_id_total  product_id_reordered\n",
      "user_id                                        \n",
      "17                     53                    38\n",
      "14                     61                    22\n",
      "16                     32                    17\n",
      "7                      14                    13\n",
      "13                     23                    13\n",
      "5                      12                     8\n",
      "15                     13                     7\n",
      "11                     15                     3\n",
      "12                     12                     3\n",
      "2                      26                     1\n",
      "\n",
      "-- Proporción de productos repedidos por usuario: \n",
      "         product_id_total  product_id_reordered  proportion_reoders\n",
      "user_id                                                            \n",
      "7                      14                    13            0.928571\n",
      "17                     53                    38            0.716981\n",
      "5                      12                     8            0.666667\n",
      "13                     23                    13            0.565217\n",
      "15                     13                     7            0.538462\n",
      "16                     32                    17            0.531250\n",
      "14                     61                    22            0.360656\n",
      "12                     12                     3            0.250000\n",
      "11                     15                     3            0.200000\n",
      "2                      26                     1            0.038462\n"
     ]
    }
   ],
   "source": [
    "# Se fusionan las dos tablas con las cantidades de pedidos por usauario\n",
    "proportion_user_products = total_products_users.merge(reordered_products_user, on='user_id', suffixes=['_total', '_reordered'])\n",
    "print(f\"-- Cantidad de productos pedidos totales y repedidos por usuario: \\n{proportion_user_products.head(10).sort_values(by='product_id_reordered', ascending=False)}\")\n",
    "print()\n",
    "\n",
    "# Se calcula la proporción de productos repedidos por cada usuario\n",
    "proportion_user_products['proportion_reoders'] = proportion_user_products['product_id_reordered'] / proportion_user_products['product_id_total']\n",
    "print(f\"-- Proporción de productos repedidos por usuario: \\n{proportion_user_products.head(10).sort_values(by='proportion_reoders', ascending=False)}\")"
   ]
  },
  {
   "cell_type": "markdown",
   "id": "BgJSvXDsleXz",
   "metadata": {
    "id": "BgJSvXDsleXz"
   },
   "source": [
    "1. La cantidad de productos repedidos varía mucho de pendiendo del usuario.\n",
    "2. Con esta información y la información obtenida de los productos más repedidos se puede establecer campañas para promocionar, primero los productos que menos repiten los usuarios y segundo a insentivar a que los usuarios vuelvan a pedir los productos."
   ]
  },
  {
   "cell_type": "markdown",
   "id": "92d35137",
   "metadata": {
    "id": "92d35137"
   },
   "source": [
    "### [C5] ¿Cuáles son los 20 principales artículos que las personas ponen primero en sus carritos?"
   ]
  },
  {
   "cell_type": "code",
   "execution_count": 87,
   "id": "0ae57274",
   "metadata": {
    "id": "0ae57274"
   },
   "outputs": [
    {
     "name": "stdout",
     "output_type": "stream",
     "text": [
      "-- Listado de nombre de productos y IDs: \n",
      "   product_id                                 product_name_upper\n",
      "0           1                         CHOCOLATE SANDWICH COOKIES\n",
      "1           2                                   ALL-SEASONS SALT\n",
      "2           3               ROBUST GOLDEN UNSWEETENED OOLONG TEA\n",
      "3           4  SMART ONES CLASSIC FAVORITES MINI RIGATONI WIT...\n",
      "4           5                          GREEN CHILE ANYTIME SAUCE\n",
      "\n",
      "-- Listado de órdenes: \n",
      "   product_id  add_to_cart_order\n",
      "0       11440                 17\n",
      "1        1560                  1\n",
      "2       26683                  1\n",
      "3        8670                 35\n",
      "4        1940                  5\n",
      "\n",
      "-- Listado de productos, y orden de añadido al carrito: \n",
      "   product_id  add_to_cart_order              product_name_upper\n",
      "0       11440                 17  CHICKEN BREAST TENDERS BREADED\n",
      "1       11440                  7  CHICKEN BREAST TENDERS BREADED\n",
      "2       11440                  4  CHICKEN BREAST TENDERS BREADED\n",
      "3       11440                  8  CHICKEN BREAST TENDERS BREADED\n",
      "4       11440                 23  CHICKEN BREAST TENDERS BREADED\n"
     ]
    }
   ],
   "source": [
    "# Se extrae la información requerida de los datasets 'orders_products' y 'products'\n",
    "list_of_products = products[['product_id', 'product_name_upper']]\n",
    "print(f\"-- Listado de nombre de productos y IDs: \\n{list_of_products.head()}\")\n",
    "print()\n",
    "list_of_orders = orders_products[['product_id', 'add_to_cart_order']]\n",
    "print(f\"-- Listado de órdenes: \\n{list_of_orders.head()}\")\n",
    "print()\n",
    "\n",
    "# Se fusionan los dos dataset para obtener un solo listado con el nombre de los productos, sus IDs\n",
    "# y el orden en que fueron añadidos al carrito de compras\n",
    "merged_list = list_of_orders.merge(list_of_products, on='product_id')\n",
    "print(f\"-- Listado de productos, y orden de añadido al carrito: \\n{merged_list.head()}\")"
   ]
  },
  {
   "cell_type": "code",
   "execution_count": 88,
   "id": "forty-netherlands",
   "metadata": {
    "id": "forty-netherlands"
   },
   "outputs": [
    {
     "name": "stdout",
     "output_type": "stream",
     "text": [
      "-- Listado de productos añadidos primeros al carrito: \n",
      "    product_id  add_to_cart_order              product_name_upper\n",
      "6        11440                  1  CHICKEN BREAST TENDERS BREADED\n",
      "17       11440                  1  CHICKEN BREAST TENDERS BREADED\n",
      "21       11440                  1  CHICKEN BREAST TENDERS BREADED\n",
      "50       11440                  1  CHICKEN BREAST TENDERS BREADED\n",
      "62       11440                  1  CHICKEN BREAST TENDERS BREADED\n"
     ]
    }
   ],
   "source": [
    "# Se filtra el dataset 'merged_list' para obtener solo aquellos productos que fueron añdidos primero\n",
    "# al carrito\n",
    "add_first_to_cart = merged_list[merged_list['add_to_cart_order'] == 1]\n",
    "print(f\"-- Listado de productos añadidos primeros al carrito: \\n{add_first_to_cart.head()}\")\n"
   ]
  },
  {
   "cell_type": "code",
   "execution_count": 89,
   "id": "08e41ec2",
   "metadata": {
    "id": "08e41ec2"
   },
   "outputs": [
    {
     "name": "stdout",
     "output_type": "stream",
     "text": [
      "-- Top 20  de productos que más veces se añadieron primero al carrito: \n",
      "                                        count_add_first\n",
      "product_name_upper          product_id                 \n",
      "BANANA                      24852                 15562\n",
      "BAG OF ORGANIC BANANAS      13176                 11026\n",
      "ORGANIC WHOLE MILK          27845                  4363\n",
      "ORGANIC STRAWBERRIES        21137                  3946\n",
      "ORGANIC HASS AVOCADO        47209                  3390\n",
      "ORGANIC BABY SPINACH        21903                  3336\n",
      "ORGANIC AVOCADO             47766                  3044\n",
      "SPRING WATER                19660                  2336\n",
      "STRAWBERRIES                16797                  2308\n",
      "ORGANIC RASPBERRIES         27966                  2024\n",
      "SPARKLING WATER GRAPEFRUIT  44632                  1914\n",
      "ORGANIC HALF & HALF         49235                  1797\n",
      "LARGE LEMON                 47626                  1737\n",
      "SODA                        196                    1733\n",
      "ORGANIC REDUCED FAT MILK    38689                  1397\n",
      "LIMES                       26209                  1370\n",
      "HASS AVOCADOS               12341                  1340\n",
      "ORGANIC REDUCED FAT 2% MILK 5785                   1310\n",
      "HALF & HALF                 27086                  1309\n",
      "RASPBERRIES                 43352                  1246\n"
     ]
    }
   ],
   "source": [
    "# Se realiza la cuenta del número de veces que un producto fue añadido al carrito\n",
    "func_count = {'add_to_cart_order':'count'}\n",
    "count_add_first = add_first_to_cart.groupby(by=['product_name_upper', 'product_id']).aggregate(func_count).sort_values(by='add_to_cart_order', ascending=False)\n",
    "\n",
    "# Por cambia el nombre de la columna 'add_to_cart_order' para visualizar mejor los datos \n",
    "new_name_column = {\n",
    "    'add_to_cart_order': 'count_add_first'}\n",
    "count_add_first.rename(columns=new_name_column, inplace=True)\n",
    "\n",
    "print(f\"-- Top 20  de productos que más veces se añadieron primero al carrito: \\n{count_add_first.head(20)}\")"
   ]
  },
  {
   "cell_type": "markdown",
   "id": "28ce9872",
   "metadata": {
    "id": "28ce9872"
   },
   "source": [
    "1. Los productos que fueron añadidos de primero al carrito coincide bastante con el listado de productos más pedidos."
   ]
  },
  {
   "cell_type": "markdown",
   "id": "uITbFCEoDosC",
   "metadata": {
    "id": "uITbFCEoDosC"
   },
   "source": [
    "### Conclusion general del proyecto:"
   ]
  },
  {
   "cell_type": "markdown",
   "id": "eb6f3192",
   "metadata": {
    "id": "Nk-4GS7mDwqY"
   },
   "source": [
    "- El proceso de preparación de los datos para el analísis es muy importante, y hacerlo bien implica tener mucha atención al detalle y conocer bien la información con la que se está trabajando."
   ]
  }
 ],
 "metadata": {
  "colab": {
   "provenance": []
  },
  "kernelspec": {
   "display_name": "Python 3 (ipykernel)",
   "language": "python",
   "name": "python3"
  },
  "language_info": {
   "codemirror_mode": {
    "name": "ipython",
    "version": 3
   },
   "file_extension": ".py",
   "mimetype": "text/x-python",
   "name": "python",
   "nbconvert_exporter": "python",
   "pygments_lexer": "ipython3",
   "version": "3.10.12"
  },
  "toc": {
   "base_numbering": 1,
   "nav_menu": {},
   "number_sections": true,
   "sideBar": true,
   "skip_h1_title": true,
   "title_cell": "Table of Contents",
   "title_sidebar": "Contents",
   "toc_cell": false,
   "toc_position": {
    "height": "calc(100% - 180px)",
    "left": "10px",
    "top": "150px",
    "width": "748.717px"
   },
   "toc_section_display": true,
   "toc_window_display": false
  },
  "vscode": {
   "interpreter": {
    "hash": "01a7be9ec63e704a62cefc5fe7a4756944464ee731be31632bdf42a4cb4688cf"
   }
  }
 },
 "nbformat": 4,
 "nbformat_minor": 5
}
